{
  "nbformat": 4,
  "nbformat_minor": 0,
  "metadata": {
    "colab": {
      "name": "players-data-analysis.ipynb",
      "provenance": [],
      "collapsed_sections": []
    },
    "kernelspec": {
      "name": "python3",
      "display_name": "Python 3"
    },
    "language_info": {
      "name": "python"
    }
  },
  "cells": [
    {
      "cell_type": "code",
      "metadata": {
        "id": "L7NzhftMjNge"
      },
      "source": [
        ""
      ],
      "execution_count": null,
      "outputs": []
    },
    {
      "cell_type": "markdown",
      "metadata": {
        "id": "TmQynRI8Xxxs"
      },
      "source": [
        "# **Exploratory Data Analysis of Players Dataframe**\n",
        "\n",
        "### **We will be analysing the Players dataset**"
      ]
    },
    {
      "cell_type": "code",
      "metadata": {
        "id": "CTqqR_9ujoSM"
      },
      "source": [
        "# Importing the Libraries\n",
        "import numpy as np\n",
        "import pandas as pd\n",
        "import seaborn as sns\n",
        "import matplotlib.pyplot as plt"
      ],
      "execution_count": 1,
      "outputs": []
    },
    {
      "cell_type": "code",
      "metadata": {
        "id": "UK5Bl8JCjg8H"
      },
      "source": [
        "# Reading the excel file\n",
        "players_df = pd.read_excel('/content/drive/MyDrive/Colab Notebooks/Exploratory Data Analysis/3. IPL/2. Players Dataset/Players.xlsx')"
      ],
      "execution_count": 50,
      "outputs": []
    },
    {
      "cell_type": "code",
      "metadata": {
        "id": "J2AGP5laj1i9"
      },
      "source": [
        ""
      ],
      "execution_count": 50,
      "outputs": []
    },
    {
      "cell_type": "markdown",
      "metadata": {
        "id": "4on6fWFlX1ZZ"
      },
      "source": [
        "# **Step 1: Skimming over the Dataset and Analysing the Data**\n",
        "\n",
        "### **In this step we will be analysing the dataset**"
      ]
    },
    {
      "cell_type": "code",
      "metadata": {
        "colab": {
          "base_uri": "https://localhost:8080/"
        },
        "id": "836Mu2tSj_1G",
        "outputId": "229235fb-b67b-4c5e-8055-b549596a2ec5"
      },
      "source": [
        "# Shape of the dataset\n",
        "players_df.shape"
      ],
      "execution_count": 51,
      "outputs": [
        {
          "output_type": "execute_result",
          "data": {
            "text/plain": [
              "(566, 5)"
            ]
          },
          "metadata": {
            "tags": []
          },
          "execution_count": 51
        }
      ]
    },
    {
      "cell_type": "code",
      "metadata": {
        "colab": {
          "base_uri": "https://localhost:8080/"
        },
        "id": "pvZ0PbFBkBph",
        "outputId": "3f92ed9a-cf52-4807-f22c-d5444f121d68"
      },
      "source": [
        "# Columns of the dataset\n",
        "players_df.columns"
      ],
      "execution_count": 52,
      "outputs": [
        {
          "output_type": "execute_result",
          "data": {
            "text/plain": [
              "Index(['Player_Name', 'DOB', 'Batting_Hand', 'Bowling_Skill', 'Country'], dtype='object')"
            ]
          },
          "metadata": {
            "tags": []
          },
          "execution_count": 52
        }
      ]
    },
    {
      "cell_type": "code",
      "metadata": {
        "colab": {
          "base_uri": "https://localhost:8080/"
        },
        "id": "84eDEJbRkCsl",
        "outputId": "619a0925-9cf9-41c1-fb5e-7599c23ebd74"
      },
      "source": [
        "# Info of the dataset\n",
        "players_df.info()"
      ],
      "execution_count": 53,
      "outputs": [
        {
          "output_type": "stream",
          "text": [
            "<class 'pandas.core.frame.DataFrame'>\n",
            "RangeIndex: 566 entries, 0 to 565\n",
            "Data columns (total 5 columns):\n",
            " #   Column         Non-Null Count  Dtype         \n",
            "---  ------         --------------  -----         \n",
            " 0   Player_Name    566 non-null    object        \n",
            " 1   DOB            471 non-null    datetime64[ns]\n",
            " 2   Batting_Hand   563 non-null    object        \n",
            " 3   Bowling_Skill  502 non-null    object        \n",
            " 4   Country        471 non-null    object        \n",
            "dtypes: datetime64[ns](1), object(4)\n",
            "memory usage: 22.2+ KB\n"
          ],
          "name": "stdout"
        }
      ]
    },
    {
      "cell_type": "code",
      "metadata": {
        "colab": {
          "base_uri": "https://localhost:8080/",
          "height": 289
        },
        "id": "NBlrSIDLkDzY",
        "outputId": "e9675f8f-ff54-4eb9-a18a-483229695019"
      },
      "source": [
        "# Overview of the dataset\n",
        "players_df.describe()"
      ],
      "execution_count": 54,
      "outputs": [
        {
          "output_type": "stream",
          "text": [
            "/usr/local/lib/python3.7/dist-packages/ipykernel_launcher.py:2: FutureWarning: Treating datetime data as categorical rather than numeric in `.describe` is deprecated and will be removed in a future version of pandas. Specify `datetime_is_numeric=True` to silence this warning and adopt the future behavior now.\n",
            "  \n"
          ],
          "name": "stderr"
        },
        {
          "output_type": "execute_result",
          "data": {
            "text/html": [
              "<div>\n",
              "<style scoped>\n",
              "    .dataframe tbody tr th:only-of-type {\n",
              "        vertical-align: middle;\n",
              "    }\n",
              "\n",
              "    .dataframe tbody tr th {\n",
              "        vertical-align: top;\n",
              "    }\n",
              "\n",
              "    .dataframe thead th {\n",
              "        text-align: right;\n",
              "    }\n",
              "</style>\n",
              "<table border=\"1\" class=\"dataframe\">\n",
              "  <thead>\n",
              "    <tr style=\"text-align: right;\">\n",
              "      <th></th>\n",
              "      <th>Player_Name</th>\n",
              "      <th>DOB</th>\n",
              "      <th>Batting_Hand</th>\n",
              "      <th>Bowling_Skill</th>\n",
              "      <th>Country</th>\n",
              "    </tr>\n",
              "  </thead>\n",
              "  <tbody>\n",
              "    <tr>\n",
              "      <th>count</th>\n",
              "      <td>566</td>\n",
              "      <td>471</td>\n",
              "      <td>563</td>\n",
              "      <td>502</td>\n",
              "      <td>471</td>\n",
              "    </tr>\n",
              "    <tr>\n",
              "      <th>unique</th>\n",
              "      <td>566</td>\n",
              "      <td>457</td>\n",
              "      <td>3</td>\n",
              "      <td>16</td>\n",
              "      <td>11</td>\n",
              "    </tr>\n",
              "    <tr>\n",
              "      <th>top</th>\n",
              "      <td>KC Sangakkara</td>\n",
              "      <td>1987-04-30 00:00:00</td>\n",
              "      <td>Right_Hand</td>\n",
              "      <td>Right-arm medium</td>\n",
              "      <td>India</td>\n",
              "    </tr>\n",
              "    <tr>\n",
              "      <th>freq</th>\n",
              "      <td>1</td>\n",
              "      <td>3</td>\n",
              "      <td>373</td>\n",
              "      <td>107</td>\n",
              "      <td>264</td>\n",
              "    </tr>\n",
              "    <tr>\n",
              "      <th>first</th>\n",
              "      <td>NaN</td>\n",
              "      <td>1969-06-30 00:00:00</td>\n",
              "      <td>NaN</td>\n",
              "      <td>NaN</td>\n",
              "      <td>NaN</td>\n",
              "    </tr>\n",
              "    <tr>\n",
              "      <th>last</th>\n",
              "      <td>NaN</td>\n",
              "      <td>1998-07-18 00:00:00</td>\n",
              "      <td>NaN</td>\n",
              "      <td>NaN</td>\n",
              "      <td>NaN</td>\n",
              "    </tr>\n",
              "  </tbody>\n",
              "</table>\n",
              "</div>"
            ],
            "text/plain": [
              "          Player_Name                  DOB  ...     Bowling_Skill Country\n",
              "count             566                  471  ...               502     471\n",
              "unique            566                  457  ...                16      11\n",
              "top     KC Sangakkara  1987-04-30 00:00:00  ...  Right-arm medium   India\n",
              "freq                1                    3  ...               107     264\n",
              "first             NaN  1969-06-30 00:00:00  ...               NaN     NaN\n",
              "last              NaN  1998-07-18 00:00:00  ...               NaN     NaN\n",
              "\n",
              "[6 rows x 5 columns]"
            ]
          },
          "metadata": {
            "tags": []
          },
          "execution_count": 54
        }
      ]
    },
    {
      "cell_type": "code",
      "metadata": {
        "id": "Zd1gtju4kGGq"
      },
      "source": [
        ""
      ],
      "execution_count": 54,
      "outputs": []
    },
    {
      "cell_type": "code",
      "metadata": {
        "id": "587pRJmlkG8A"
      },
      "source": [
        ""
      ],
      "execution_count": 54,
      "outputs": []
    },
    {
      "cell_type": "markdown",
      "metadata": {
        "id": "3lXo72JfX82F"
      },
      "source": [
        "# **Step 2: Analysing our deliveries dataset**\n",
        "\n",
        "### **In this step we will be analysing the dataset**"
      ]
    },
    {
      "cell_type": "code",
      "metadata": {
        "colab": {
          "base_uri": "https://localhost:8080/",
          "height": 419
        },
        "id": "6ICy2a0CkJRs",
        "outputId": "639673e5-dab5-4f9b-e9f0-df16ac9b0090"
      },
      "source": [
        "# Print the dataset\n",
        "players_df"
      ],
      "execution_count": 55,
      "outputs": [
        {
          "output_type": "execute_result",
          "data": {
            "text/html": [
              "<div>\n",
              "<style scoped>\n",
              "    .dataframe tbody tr th:only-of-type {\n",
              "        vertical-align: middle;\n",
              "    }\n",
              "\n",
              "    .dataframe tbody tr th {\n",
              "        vertical-align: top;\n",
              "    }\n",
              "\n",
              "    .dataframe thead th {\n",
              "        text-align: right;\n",
              "    }\n",
              "</style>\n",
              "<table border=\"1\" class=\"dataframe\">\n",
              "  <thead>\n",
              "    <tr style=\"text-align: right;\">\n",
              "      <th></th>\n",
              "      <th>Player_Name</th>\n",
              "      <th>DOB</th>\n",
              "      <th>Batting_Hand</th>\n",
              "      <th>Bowling_Skill</th>\n",
              "      <th>Country</th>\n",
              "    </tr>\n",
              "  </thead>\n",
              "  <tbody>\n",
              "    <tr>\n",
              "      <th>0</th>\n",
              "      <td>A Ashish Reddy</td>\n",
              "      <td>1991-02-24</td>\n",
              "      <td>Right_Hand</td>\n",
              "      <td>Right-arm medium</td>\n",
              "      <td>India</td>\n",
              "    </tr>\n",
              "    <tr>\n",
              "      <th>1</th>\n",
              "      <td>A Chandila</td>\n",
              "      <td>1983-12-05</td>\n",
              "      <td>Right_Hand</td>\n",
              "      <td>Right-arm offbreak</td>\n",
              "      <td>India</td>\n",
              "    </tr>\n",
              "    <tr>\n",
              "      <th>2</th>\n",
              "      <td>A Chopra</td>\n",
              "      <td>1977-09-19</td>\n",
              "      <td>Right_Hand</td>\n",
              "      <td>Right-arm offbreak</td>\n",
              "      <td>India</td>\n",
              "    </tr>\n",
              "    <tr>\n",
              "      <th>3</th>\n",
              "      <td>A Choudhary</td>\n",
              "      <td>NaT</td>\n",
              "      <td>Right_hand</td>\n",
              "      <td>Left-arm fast-medium</td>\n",
              "      <td>NaN</td>\n",
              "    </tr>\n",
              "    <tr>\n",
              "      <th>4</th>\n",
              "      <td>A Dananjaya</td>\n",
              "      <td>NaT</td>\n",
              "      <td>Right_Hand</td>\n",
              "      <td>Right-arm offbreak</td>\n",
              "      <td>NaN</td>\n",
              "    </tr>\n",
              "    <tr>\n",
              "      <th>...</th>\n",
              "      <td>...</td>\n",
              "      <td>...</td>\n",
              "      <td>...</td>\n",
              "      <td>...</td>\n",
              "      <td>...</td>\n",
              "    </tr>\n",
              "    <tr>\n",
              "      <th>561</th>\n",
              "      <td>Younis Khan</td>\n",
              "      <td>1977-11-29</td>\n",
              "      <td>Right_Hand</td>\n",
              "      <td>Right-arm medium</td>\n",
              "      <td>Pakistan</td>\n",
              "    </tr>\n",
              "    <tr>\n",
              "      <th>562</th>\n",
              "      <td>YS Chahal</td>\n",
              "      <td>1990-07-23</td>\n",
              "      <td>Right_Hand</td>\n",
              "      <td>Legbreak googly</td>\n",
              "      <td>India</td>\n",
              "    </tr>\n",
              "    <tr>\n",
              "      <th>563</th>\n",
              "      <td>Yuvraj Singh</td>\n",
              "      <td>1981-12-12</td>\n",
              "      <td>Left_Hand</td>\n",
              "      <td>Slow left-arm orthodox</td>\n",
              "      <td>India</td>\n",
              "    </tr>\n",
              "    <tr>\n",
              "      <th>564</th>\n",
              "      <td>YV Takawale</td>\n",
              "      <td>1984-11-05</td>\n",
              "      <td>Right_Hand</td>\n",
              "      <td>NaN</td>\n",
              "      <td>India</td>\n",
              "    </tr>\n",
              "    <tr>\n",
              "      <th>565</th>\n",
              "      <td>Z Khan</td>\n",
              "      <td>1978-10-07</td>\n",
              "      <td>Right_Hand</td>\n",
              "      <td>Left-arm fast-medium</td>\n",
              "      <td>India</td>\n",
              "    </tr>\n",
              "  </tbody>\n",
              "</table>\n",
              "<p>566 rows × 5 columns</p>\n",
              "</div>"
            ],
            "text/plain": [
              "        Player_Name        DOB Batting_Hand           Bowling_Skill   Country\n",
              "0    A Ashish Reddy 1991-02-24   Right_Hand        Right-arm medium     India\n",
              "1        A Chandila 1983-12-05   Right_Hand      Right-arm offbreak     India\n",
              "2          A Chopra 1977-09-19   Right_Hand      Right-arm offbreak     India\n",
              "3       A Choudhary        NaT   Right_hand    Left-arm fast-medium       NaN\n",
              "4       A Dananjaya        NaT   Right_Hand      Right-arm offbreak       NaN\n",
              "..              ...        ...          ...                     ...       ...\n",
              "561     Younis Khan 1977-11-29   Right_Hand        Right-arm medium  Pakistan\n",
              "562       YS Chahal 1990-07-23   Right_Hand         Legbreak googly     India\n",
              "563    Yuvraj Singh 1981-12-12    Left_Hand  Slow left-arm orthodox     India\n",
              "564     YV Takawale 1984-11-05   Right_Hand                     NaN     India\n",
              "565          Z Khan 1978-10-07   Right_Hand    Left-arm fast-medium     India\n",
              "\n",
              "[566 rows x 5 columns]"
            ]
          },
          "metadata": {
            "tags": []
          },
          "execution_count": 55
        }
      ]
    },
    {
      "cell_type": "code",
      "metadata": {
        "id": "t5xXRIWNkJfv"
      },
      "source": [
        ""
      ],
      "execution_count": 55,
      "outputs": []
    },
    {
      "cell_type": "markdown",
      "metadata": {
        "id": "UmmuXzfwBzd9"
      },
      "source": [
        "# **Objective - Players Dataset**\n",
        "**1. After India, from which country players belongs?**\n",
        "\n",
        "**2. Left Hand Bolwing vs Right Hand Bowling Ratio**\n",
        "\n",
        "**3. Highest number of Bowling Skill type**\n",
        "\n",
        "**4. List of top 10 oldest players and younger players**\n",
        "\n",
        "**5. Final Conclusion of Players Dataframe**"
      ]
    },
    {
      "cell_type": "code",
      "metadata": {
        "id": "dHbABI8YkNWt"
      },
      "source": [
        ""
      ],
      "execution_count": 55,
      "outputs": []
    },
    {
      "cell_type": "markdown",
      "metadata": {
        "id": "q1pixNMCDLm0"
      },
      "source": [
        "## **Task-1 After India, from which country players belongs?**\n",
        "\n",
        "### **Let us check after India, from which country players belongs?**"
      ]
    },
    {
      "cell_type": "code",
      "metadata": {
        "id": "tyzViETVkNzI"
      },
      "source": [
        "# Make a copy of players_df - country column\n",
        "players_country_df = players_df[['Country']]"
      ],
      "execution_count": 56,
      "outputs": []
    },
    {
      "cell_type": "code",
      "metadata": {
        "colab": {
          "base_uri": "https://localhost:8080/"
        },
        "id": "zcshYupskO8H",
        "outputId": "2bbb55ee-0303-4378-87b3-94f2553367d1"
      },
      "source": [
        "# Drop the rows with nan values\n",
        "players_country_df.dropna(inplace = True)"
      ],
      "execution_count": 57,
      "outputs": [
        {
          "output_type": "stream",
          "text": [
            "/usr/local/lib/python3.7/dist-packages/ipykernel_launcher.py:2: SettingWithCopyWarning: \n",
            "A value is trying to be set on a copy of a slice from a DataFrame\n",
            "\n",
            "See the caveats in the documentation: https://pandas.pydata.org/pandas-docs/stable/user_guide/indexing.html#returning-a-view-versus-a-copy\n",
            "  \n"
          ],
          "name": "stderr"
        }
      ]
    },
    {
      "cell_type": "code",
      "metadata": {
        "id": "AcHreQk4kPvc"
      },
      "source": [
        "# Reset the index of no nan values df\n",
        "players_country_df = players_country_df.reset_index()"
      ],
      "execution_count": 58,
      "outputs": []
    },
    {
      "cell_type": "code",
      "metadata": {
        "id": "_oOd2NagkQyG"
      },
      "source": [
        "# Groupby countries and count the players\n",
        "players_country_df = players_country_df.groupby('Country')[['index']].count()"
      ],
      "execution_count": 59,
      "outputs": []
    },
    {
      "cell_type": "code",
      "metadata": {
        "colab": {
          "base_uri": "https://localhost:8080/",
          "height": 421
        },
        "id": "Ko85t5EokRud",
        "outputId": "64ce4c1c-9683-4598-c53e-4d6db2267ac5"
      },
      "source": [
        "players_country_df"
      ],
      "execution_count": 60,
      "outputs": [
        {
          "output_type": "execute_result",
          "data": {
            "text/html": [
              "<div>\n",
              "<style scoped>\n",
              "    .dataframe tbody tr th:only-of-type {\n",
              "        vertical-align: middle;\n",
              "    }\n",
              "\n",
              "    .dataframe tbody tr th {\n",
              "        vertical-align: top;\n",
              "    }\n",
              "\n",
              "    .dataframe thead th {\n",
              "        text-align: right;\n",
              "    }\n",
              "</style>\n",
              "<table border=\"1\" class=\"dataframe\">\n",
              "  <thead>\n",
              "    <tr style=\"text-align: right;\">\n",
              "      <th></th>\n",
              "      <th>index</th>\n",
              "    </tr>\n",
              "    <tr>\n",
              "      <th>Country</th>\n",
              "      <th></th>\n",
              "    </tr>\n",
              "  </thead>\n",
              "  <tbody>\n",
              "    <tr>\n",
              "      <th>Australia</th>\n",
              "      <td>72</td>\n",
              "    </tr>\n",
              "    <tr>\n",
              "      <th>Bangladesh</th>\n",
              "      <td>5</td>\n",
              "    </tr>\n",
              "    <tr>\n",
              "      <th>England</th>\n",
              "      <td>14</td>\n",
              "    </tr>\n",
              "    <tr>\n",
              "      <th>India</th>\n",
              "      <td>264</td>\n",
              "    </tr>\n",
              "    <tr>\n",
              "      <th>Netherlands</th>\n",
              "      <td>1</td>\n",
              "    </tr>\n",
              "    <tr>\n",
              "      <th>New Zealand</th>\n",
              "      <td>22</td>\n",
              "    </tr>\n",
              "    <tr>\n",
              "      <th>Pakistan</th>\n",
              "      <td>13</td>\n",
              "    </tr>\n",
              "    <tr>\n",
              "      <th>South Africa</th>\n",
              "      <td>39</td>\n",
              "    </tr>\n",
              "    <tr>\n",
              "      <th>Sri Lanka</th>\n",
              "      <td>20</td>\n",
              "    </tr>\n",
              "    <tr>\n",
              "      <th>West Indies</th>\n",
              "      <td>19</td>\n",
              "    </tr>\n",
              "    <tr>\n",
              "      <th>Zimbabwea</th>\n",
              "      <td>2</td>\n",
              "    </tr>\n",
              "  </tbody>\n",
              "</table>\n",
              "</div>"
            ],
            "text/plain": [
              "              index\n",
              "Country            \n",
              "Australia        72\n",
              "Bangladesh        5\n",
              "England          14\n",
              "India           264\n",
              "Netherlands       1\n",
              "New Zealand      22\n",
              "Pakistan         13\n",
              "South Africa     39\n",
              "Sri Lanka        20\n",
              "West Indies      19\n",
              "Zimbabwea         2"
            ]
          },
          "metadata": {
            "tags": []
          },
          "execution_count": 60
        }
      ]
    },
    {
      "cell_type": "code",
      "metadata": {
        "id": "kJvhPNXukSgY"
      },
      "source": [
        "# Rename the index column and sort values according to number of players of each country in ipl\n",
        "players_country_df.rename(columns = {'index' : 'number_of_players'}, inplace = True)\n",
        "players_country_df.sort_values(by = 'number_of_players', ascending = False, inplace = True)\n",
        "players_country_df = players_country_df.reset_index()"
      ],
      "execution_count": 61,
      "outputs": []
    },
    {
      "cell_type": "code",
      "metadata": {
        "colab": {
          "base_uri": "https://localhost:8080/",
          "height": 390
        },
        "id": "zvuiTUMkkTp_",
        "outputId": "88dda99b-839c-4417-ae9c-7e8ec007a829"
      },
      "source": [
        "# Print the players country df\n",
        "players_country_df"
      ],
      "execution_count": 62,
      "outputs": [
        {
          "output_type": "execute_result",
          "data": {
            "text/html": [
              "<div>\n",
              "<style scoped>\n",
              "    .dataframe tbody tr th:only-of-type {\n",
              "        vertical-align: middle;\n",
              "    }\n",
              "\n",
              "    .dataframe tbody tr th {\n",
              "        vertical-align: top;\n",
              "    }\n",
              "\n",
              "    .dataframe thead th {\n",
              "        text-align: right;\n",
              "    }\n",
              "</style>\n",
              "<table border=\"1\" class=\"dataframe\">\n",
              "  <thead>\n",
              "    <tr style=\"text-align: right;\">\n",
              "      <th></th>\n",
              "      <th>Country</th>\n",
              "      <th>number_of_players</th>\n",
              "    </tr>\n",
              "  </thead>\n",
              "  <tbody>\n",
              "    <tr>\n",
              "      <th>0</th>\n",
              "      <td>India</td>\n",
              "      <td>264</td>\n",
              "    </tr>\n",
              "    <tr>\n",
              "      <th>1</th>\n",
              "      <td>Australia</td>\n",
              "      <td>72</td>\n",
              "    </tr>\n",
              "    <tr>\n",
              "      <th>2</th>\n",
              "      <td>South Africa</td>\n",
              "      <td>39</td>\n",
              "    </tr>\n",
              "    <tr>\n",
              "      <th>3</th>\n",
              "      <td>New Zealand</td>\n",
              "      <td>22</td>\n",
              "    </tr>\n",
              "    <tr>\n",
              "      <th>4</th>\n",
              "      <td>Sri Lanka</td>\n",
              "      <td>20</td>\n",
              "    </tr>\n",
              "    <tr>\n",
              "      <th>5</th>\n",
              "      <td>West Indies</td>\n",
              "      <td>19</td>\n",
              "    </tr>\n",
              "    <tr>\n",
              "      <th>6</th>\n",
              "      <td>England</td>\n",
              "      <td>14</td>\n",
              "    </tr>\n",
              "    <tr>\n",
              "      <th>7</th>\n",
              "      <td>Pakistan</td>\n",
              "      <td>13</td>\n",
              "    </tr>\n",
              "    <tr>\n",
              "      <th>8</th>\n",
              "      <td>Bangladesh</td>\n",
              "      <td>5</td>\n",
              "    </tr>\n",
              "    <tr>\n",
              "      <th>9</th>\n",
              "      <td>Zimbabwea</td>\n",
              "      <td>2</td>\n",
              "    </tr>\n",
              "    <tr>\n",
              "      <th>10</th>\n",
              "      <td>Netherlands</td>\n",
              "      <td>1</td>\n",
              "    </tr>\n",
              "  </tbody>\n",
              "</table>\n",
              "</div>"
            ],
            "text/plain": [
              "         Country  number_of_players\n",
              "0          India                264\n",
              "1      Australia                 72\n",
              "2   South Africa                 39\n",
              "3    New Zealand                 22\n",
              "4      Sri Lanka                 20\n",
              "5    West Indies                 19\n",
              "6        England                 14\n",
              "7       Pakistan                 13\n",
              "8     Bangladesh                  5\n",
              "9      Zimbabwea                  2\n",
              "10   Netherlands                  1"
            ]
          },
          "metadata": {
            "tags": []
          },
          "execution_count": 62
        }
      ]
    },
    {
      "cell_type": "code",
      "metadata": {
        "id": "CMa6MnUvkUc2"
      },
      "source": [
        "# We can see that after India, most number of players in ipl are from Australia"
      ],
      "execution_count": 63,
      "outputs": []
    },
    {
      "cell_type": "code",
      "metadata": {
        "colab": {
          "base_uri": "https://localhost:8080/",
          "height": 874
        },
        "id": "e66GN0t7kVz9",
        "outputId": "ee62f340-72b6-4ff3-fa0e-8a825a652f0d"
      },
      "source": [
        "# Let us plot the graph for better understanding\n",
        "labels = list(players_country_df['Country'])\n",
        "plt.figure(figsize = (15, 15))\n",
        "\n",
        "plt.title(\"Number of Players from each country\", fontweight = 'bold', fontsize = 28)\n",
        "plt.tick_params(labelsize = 35)\n",
        "\n",
        "plt.pie(players_country_df['number_of_players'], labels = labels, autopct='%1.0f%%', textprops = {'fontsize' : 13});"
      ],
      "execution_count": 64,
      "outputs": [
        {
          "output_type": "display_data",
          "data": {
            "image/png": "[encoded data removed]",
            "text/plain": [
              "<Figure size 1080x1080 with 1 Axes>"
            ]
          },
          "metadata": {
            "tags": []
          }
        }
      ]
    },
    {
      "cell_type": "code",
      "metadata": {
        "id": "TWTbUSWckW0B"
      },
      "source": [
        "# Let's plot pie chart again without India\n",
        "labels = list(players_country_df['Country'])\n",
        "labels.remove('India')"
      ],
      "execution_count": 65,
      "outputs": []
    },
    {
      "cell_type": "code",
      "metadata": {
        "id": "hwntgvurkYEV"
      },
      "source": [
        "players_country_df.drop([0], inplace = True)"
      ],
      "execution_count": 66,
      "outputs": []
    },
    {
      "cell_type": "code",
      "metadata": {
        "colab": {
          "base_uri": "https://localhost:8080/",
          "height": 874
        },
        "id": "PwuNBIpDkY9S",
        "outputId": "8715ee1a-61b8-42f7-cf70-4a3609d0e75b"
      },
      "source": [
        "plt.figure(figsize = (15, 15))\n",
        "\n",
        "plt.title(\"Number of Players from each country except India\", fontweight = 'bold', fontsize = 28)\n",
        "plt.tick_params(labelsize = 35)\n",
        "\n",
        "plt.pie(players_country_df['number_of_players'], labels = labels, autopct='%1.0f%%', textprops = {'fontsize' : 13});"
      ],
      "execution_count": 67,
      "outputs": [
        {
          "output_type": "display_data",
          "data": {
            "image/png": "[encoded data removed]",
            "text/plain": [
              "<Figure size 1080x1080 with 1 Axes>"
            ]
          },
          "metadata": {
            "tags": []
          }
        }
      ]
    },
    {
      "cell_type": "code",
      "metadata": {
        "id": "bnBJFeWokZ5C"
      },
      "source": [
        ""
      ],
      "execution_count": 67,
      "outputs": []
    },
    {
      "cell_type": "markdown",
      "metadata": {
        "id": "u1cvHngJQcxO"
      },
      "source": [
        "## **Conclusion**\n",
        "\n",
        "**Most number of players in ipl are from India - 264 players**\n",
        "\n",
        "**Most number of players in ipl apart from India are from Australia - 72 players which is 35% - followed by the South Africa - 39 players which is 19%**"
      ]
    },
    {
      "cell_type": "code",
      "metadata": {
        "id": "1w_4Vku7kbmR"
      },
      "source": [
        ""
      ],
      "execution_count": 67,
      "outputs": []
    },
    {
      "cell_type": "code",
      "metadata": {
        "id": "cqn9krF2kccv"
      },
      "source": [
        ""
      ],
      "execution_count": 67,
      "outputs": []
    },
    {
      "cell_type": "code",
      "metadata": {
        "id": "khmtvKqLkcaH"
      },
      "source": [
        ""
      ],
      "execution_count": 67,
      "outputs": []
    },
    {
      "cell_type": "markdown",
      "metadata": {
        "id": "81_S-mUIDVfp"
      },
      "source": [
        "## **Task-2 Left Hand Bolwing vs Right Hand Bowling Ratio**\n",
        "\n",
        "### **Let us know Left Hand Bolwing vs Right Hand Bowling Ratio**"
      ]
    },
    {
      "cell_type": "code",
      "metadata": {
        "id": "ExnE1bCXkd7K"
      },
      "source": [
        "# Make a copy of players_df - batting hand column\n",
        "players_batting_hand_df = players_df[['Batting_Hand']]"
      ],
      "execution_count": 68,
      "outputs": []
    },
    {
      "cell_type": "code",
      "metadata": {
        "colab": {
          "base_uri": "https://localhost:8080/"
        },
        "id": "hAl93tfike1X",
        "outputId": "afb1c3e8-cee4-4d9d-a9c0-ef0138472062"
      },
      "source": [
        "# Drop the rows with nan values\n",
        "players_batting_hand_df.dropna(inplace = True)"
      ],
      "execution_count": 69,
      "outputs": [
        {
          "output_type": "stream",
          "text": [
            "/usr/local/lib/python3.7/dist-packages/ipykernel_launcher.py:2: SettingWithCopyWarning: \n",
            "A value is trying to be set on a copy of a slice from a DataFrame\n",
            "\n",
            "See the caveats in the documentation: https://pandas.pydata.org/pandas-docs/stable/user_guide/indexing.html#returning-a-view-versus-a-copy\n",
            "  \n"
          ],
          "name": "stderr"
        }
      ]
    },
    {
      "cell_type": "code",
      "metadata": {
        "id": "CL_DdBRpkfuC"
      },
      "source": [
        "# Reset the index of no nan values df\n",
        "players_batting_hand_df = players_batting_hand_df.reset_index()"
      ],
      "execution_count": 70,
      "outputs": []
    },
    {
      "cell_type": "code",
      "metadata": {
        "colab": {
          "base_uri": "https://localhost:8080/",
          "height": 419
        },
        "id": "mV0Q9igckgv4",
        "outputId": "18a64a0b-192b-4583-fb00-ab638e28d24e"
      },
      "source": [
        "players_batting_hand_df"
      ],
      "execution_count": 71,
      "outputs": [
        {
          "output_type": "execute_result",
          "data": {
            "text/html": [
              "<div>\n",
              "<style scoped>\n",
              "    .dataframe tbody tr th:only-of-type {\n",
              "        vertical-align: middle;\n",
              "    }\n",
              "\n",
              "    .dataframe tbody tr th {\n",
              "        vertical-align: top;\n",
              "    }\n",
              "\n",
              "    .dataframe thead th {\n",
              "        text-align: right;\n",
              "    }\n",
              "</style>\n",
              "<table border=\"1\" class=\"dataframe\">\n",
              "  <thead>\n",
              "    <tr style=\"text-align: right;\">\n",
              "      <th></th>\n",
              "      <th>index</th>\n",
              "      <th>Batting_Hand</th>\n",
              "    </tr>\n",
              "  </thead>\n",
              "  <tbody>\n",
              "    <tr>\n",
              "      <th>0</th>\n",
              "      <td>0</td>\n",
              "      <td>Right_Hand</td>\n",
              "    </tr>\n",
              "    <tr>\n",
              "      <th>1</th>\n",
              "      <td>1</td>\n",
              "      <td>Right_Hand</td>\n",
              "    </tr>\n",
              "    <tr>\n",
              "      <th>2</th>\n",
              "      <td>2</td>\n",
              "      <td>Right_Hand</td>\n",
              "    </tr>\n",
              "    <tr>\n",
              "      <th>3</th>\n",
              "      <td>3</td>\n",
              "      <td>Right_hand</td>\n",
              "    </tr>\n",
              "    <tr>\n",
              "      <th>4</th>\n",
              "      <td>4</td>\n",
              "      <td>Right_Hand</td>\n",
              "    </tr>\n",
              "    <tr>\n",
              "      <th>...</th>\n",
              "      <td>...</td>\n",
              "      <td>...</td>\n",
              "    </tr>\n",
              "    <tr>\n",
              "      <th>558</th>\n",
              "      <td>561</td>\n",
              "      <td>Right_Hand</td>\n",
              "    </tr>\n",
              "    <tr>\n",
              "      <th>559</th>\n",
              "      <td>562</td>\n",
              "      <td>Right_Hand</td>\n",
              "    </tr>\n",
              "    <tr>\n",
              "      <th>560</th>\n",
              "      <td>563</td>\n",
              "      <td>Left_Hand</td>\n",
              "    </tr>\n",
              "    <tr>\n",
              "      <th>561</th>\n",
              "      <td>564</td>\n",
              "      <td>Right_Hand</td>\n",
              "    </tr>\n",
              "    <tr>\n",
              "      <th>562</th>\n",
              "      <td>565</td>\n",
              "      <td>Right_Hand</td>\n",
              "    </tr>\n",
              "  </tbody>\n",
              "</table>\n",
              "<p>563 rows × 2 columns</p>\n",
              "</div>"
            ],
            "text/plain": [
              "     index Batting_Hand\n",
              "0        0   Right_Hand\n",
              "1        1   Right_Hand\n",
              "2        2   Right_Hand\n",
              "3        3   Right_hand\n",
              "4        4   Right_Hand\n",
              "..     ...          ...\n",
              "558    561   Right_Hand\n",
              "559    562   Right_Hand\n",
              "560    563    Left_Hand\n",
              "561    564   Right_Hand\n",
              "562    565   Right_Hand\n",
              "\n",
              "[563 rows x 2 columns]"
            ]
          },
          "metadata": {
            "tags": []
          },
          "execution_count": 71
        }
      ]
    },
    {
      "cell_type": "code",
      "metadata": {
        "id": "d4uIw3rWkhns"
      },
      "source": [
        "# Groupby batting hand and count the number of players\n",
        "players_batting_hand_df = players_batting_hand_df.groupby('Batting_Hand')[['index']].count()"
      ],
      "execution_count": 72,
      "outputs": []
    },
    {
      "cell_type": "code",
      "metadata": {
        "colab": {
          "base_uri": "https://localhost:8080/",
          "height": 173
        },
        "id": "6qkTFcwokivu",
        "outputId": "9a54f630-78d5-4771-c649-08c6eb89b2a1"
      },
      "source": [
        "players_batting_hand_df"
      ],
      "execution_count": 73,
      "outputs": [
        {
          "output_type": "execute_result",
          "data": {
            "text/html": [
              "<div>\n",
              "<style scoped>\n",
              "    .dataframe tbody tr th:only-of-type {\n",
              "        vertical-align: middle;\n",
              "    }\n",
              "\n",
              "    .dataframe tbody tr th {\n",
              "        vertical-align: top;\n",
              "    }\n",
              "\n",
              "    .dataframe thead th {\n",
              "        text-align: right;\n",
              "    }\n",
              "</style>\n",
              "<table border=\"1\" class=\"dataframe\">\n",
              "  <thead>\n",
              "    <tr style=\"text-align: right;\">\n",
              "      <th></th>\n",
              "      <th>index</th>\n",
              "    </tr>\n",
              "    <tr>\n",
              "      <th>Batting_Hand</th>\n",
              "      <th></th>\n",
              "    </tr>\n",
              "  </thead>\n",
              "  <tbody>\n",
              "    <tr>\n",
              "      <th>Left_Hand</th>\n",
              "      <td>142</td>\n",
              "    </tr>\n",
              "    <tr>\n",
              "      <th>Right_Hand</th>\n",
              "      <td>373</td>\n",
              "    </tr>\n",
              "    <tr>\n",
              "      <th>Right_hand</th>\n",
              "      <td>48</td>\n",
              "    </tr>\n",
              "  </tbody>\n",
              "</table>\n",
              "</div>"
            ],
            "text/plain": [
              "              index\n",
              "Batting_Hand       \n",
              "Left_Hand       142\n",
              "Right_Hand      373\n",
              "Right_hand       48"
            ]
          },
          "metadata": {
            "tags": []
          },
          "execution_count": 73
        }
      ]
    },
    {
      "cell_type": "code",
      "metadata": {
        "id": "s8OZQZcnkjmi"
      },
      "source": [
        "# As we can see there are two Right_Hand values so let's add them and make them one\n",
        "players_batting_hand_df['index'][1] = players_batting_hand_df['index'][1] + players_batting_hand_df['index'][2]"
      ],
      "execution_count": 74,
      "outputs": []
    },
    {
      "cell_type": "code",
      "metadata": {
        "id": "fhtdZEAKkklf"
      },
      "source": [
        "# Drop last row\n",
        "players_batting_hand_df.drop(['Right_hand'], inplace = True)"
      ],
      "execution_count": 75,
      "outputs": []
    },
    {
      "cell_type": "code",
      "metadata": {
        "colab": {
          "base_uri": "https://localhost:8080/",
          "height": 142
        },
        "id": "8ij00B07klaW",
        "outputId": "6f577e11-873d-41bd-f059-c0bc137340dc"
      },
      "source": [
        "players_batting_hand_df"
      ],
      "execution_count": 76,
      "outputs": [
        {
          "output_type": "execute_result",
          "data": {
            "text/html": [
              "<div>\n",
              "<style scoped>\n",
              "    .dataframe tbody tr th:only-of-type {\n",
              "        vertical-align: middle;\n",
              "    }\n",
              "\n",
              "    .dataframe tbody tr th {\n",
              "        vertical-align: top;\n",
              "    }\n",
              "\n",
              "    .dataframe thead th {\n",
              "        text-align: right;\n",
              "    }\n",
              "</style>\n",
              "<table border=\"1\" class=\"dataframe\">\n",
              "  <thead>\n",
              "    <tr style=\"text-align: right;\">\n",
              "      <th></th>\n",
              "      <th>index</th>\n",
              "    </tr>\n",
              "    <tr>\n",
              "      <th>Batting_Hand</th>\n",
              "      <th></th>\n",
              "    </tr>\n",
              "  </thead>\n",
              "  <tbody>\n",
              "    <tr>\n",
              "      <th>Left_Hand</th>\n",
              "      <td>142</td>\n",
              "    </tr>\n",
              "    <tr>\n",
              "      <th>Right_Hand</th>\n",
              "      <td>421</td>\n",
              "    </tr>\n",
              "  </tbody>\n",
              "</table>\n",
              "</div>"
            ],
            "text/plain": [
              "              index\n",
              "Batting_Hand       \n",
              "Left_Hand       142\n",
              "Right_Hand      421"
            ]
          },
          "metadata": {
            "tags": []
          },
          "execution_count": 76
        }
      ]
    },
    {
      "cell_type": "code",
      "metadata": {
        "id": "cf2RoB66kmQK"
      },
      "source": [
        "# Rename the index column and sort values according to number of players\n",
        "players_batting_hand_df.rename(columns = {'index' : 'number_of_players'}, inplace = True)\n",
        "players_batting_hand_df.sort_values(by = 'number_of_players', ascending = False, inplace = True)\n",
        "players_batting_hand_df = players_batting_hand_df.reset_index()"
      ],
      "execution_count": 77,
      "outputs": []
    },
    {
      "cell_type": "code",
      "metadata": {
        "colab": {
          "base_uri": "https://localhost:8080/",
          "height": 111
        },
        "id": "4aRSXcKpknu_",
        "outputId": "7841c30a-0f07-4bc5-e2a2-5ce606a2e782"
      },
      "source": [
        "players_batting_hand_df"
      ],
      "execution_count": 78,
      "outputs": [
        {
          "output_type": "execute_result",
          "data": {
            "text/html": [
              "<div>\n",
              "<style scoped>\n",
              "    .dataframe tbody tr th:only-of-type {\n",
              "        vertical-align: middle;\n",
              "    }\n",
              "\n",
              "    .dataframe tbody tr th {\n",
              "        vertical-align: top;\n",
              "    }\n",
              "\n",
              "    .dataframe thead th {\n",
              "        text-align: right;\n",
              "    }\n",
              "</style>\n",
              "<table border=\"1\" class=\"dataframe\">\n",
              "  <thead>\n",
              "    <tr style=\"text-align: right;\">\n",
              "      <th></th>\n",
              "      <th>Batting_Hand</th>\n",
              "      <th>number_of_players</th>\n",
              "    </tr>\n",
              "  </thead>\n",
              "  <tbody>\n",
              "    <tr>\n",
              "      <th>0</th>\n",
              "      <td>Right_Hand</td>\n",
              "      <td>421</td>\n",
              "    </tr>\n",
              "    <tr>\n",
              "      <th>1</th>\n",
              "      <td>Left_Hand</td>\n",
              "      <td>142</td>\n",
              "    </tr>\n",
              "  </tbody>\n",
              "</table>\n",
              "</div>"
            ],
            "text/plain": [
              "  Batting_Hand  number_of_players\n",
              "0   Right_Hand                421\n",
              "1    Left_Hand                142"
            ]
          },
          "metadata": {
            "tags": []
          },
          "execution_count": 78
        }
      ]
    },
    {
      "cell_type": "code",
      "metadata": {
        "colab": {
          "base_uri": "https://localhost:8080/",
          "height": 874
        },
        "id": "Oovx9rgdkomk",
        "outputId": "f53f0e87-20ba-45a4-a8e6-7ec7c1a32960"
      },
      "source": [
        "# Let us plot the graph for better understanding\n",
        "labels = list(players_batting_hand_df['Batting_Hand'])\n",
        "plt.figure(figsize = (15, 15))\n",
        "\n",
        "plt.title(\"Batting hand of players\", fontweight = 'bold', fontsize = 28)\n",
        "plt.tick_params(labelsize = 35)\n",
        "\n",
        "plt.pie(players_batting_hand_df['number_of_players'], labels = labels, autopct='%1.0f%%', textprops = {'fontsize' : 13});"
      ],
      "execution_count": 79,
      "outputs": [
        {
          "output_type": "display_data",
          "data": {
            "image/png": "[encoded data removed]",
            "text/plain": [
              "<Figure size 1080x1080 with 1 Axes>"
            ]
          },
          "metadata": {
            "tags": []
          }
        }
      ]
    },
    {
      "cell_type": "code",
      "metadata": {
        "id": "bdCxWRVIkpXY"
      },
      "source": [
        ""
      ],
      "execution_count": 79,
      "outputs": []
    },
    {
      "cell_type": "markdown",
      "metadata": {
        "id": "ojLD4TYMT3GU"
      },
      "source": [
        "## **Conclusion**\n",
        "\n",
        "**Most number of players in ipl are Right Hand Batsmen - 421 which is 75%, and Left Hand Batsmen - 142 which is 25% in total**"
      ]
    },
    {
      "cell_type": "code",
      "metadata": {
        "id": "0dum0DMYkrAv"
      },
      "source": [
        ""
      ],
      "execution_count": 79,
      "outputs": []
    },
    {
      "cell_type": "code",
      "metadata": {
        "id": "IOxb40c4kruz"
      },
      "source": [
        ""
      ],
      "execution_count": 79,
      "outputs": []
    },
    {
      "cell_type": "markdown",
      "metadata": {
        "id": "PsHwY4BLDWFS"
      },
      "source": [
        "## **Task-3 Highest number of Bowling Skill type**\n",
        "\n",
        "### **Let us get highest number of Bowling Skill type**"
      ]
    },
    {
      "cell_type": "code",
      "metadata": {
        "id": "IudepQpPktFz"
      },
      "source": [
        "# Make a copy of players_df - bowling skills column\n",
        "players_bowling_df = players_df[['Bowling_Skill']]"
      ],
      "execution_count": 80,
      "outputs": []
    },
    {
      "cell_type": "code",
      "metadata": {
        "colab": {
          "base_uri": "https://localhost:8080/"
        },
        "id": "e19x8IOrkt9b",
        "outputId": "40389145-07ab-4361-e996-fa3d9586ab36"
      },
      "source": [
        "# Drop the rows with nan values\n",
        "players_bowling_df.dropna(inplace = True)"
      ],
      "execution_count": 81,
      "outputs": [
        {
          "output_type": "stream",
          "text": [
            "/usr/local/lib/python3.7/dist-packages/ipykernel_launcher.py:2: SettingWithCopyWarning: \n",
            "A value is trying to be set on a copy of a slice from a DataFrame\n",
            "\n",
            "See the caveats in the documentation: https://pandas.pydata.org/pandas-docs/stable/user_guide/indexing.html#returning-a-view-versus-a-copy\n",
            "  \n"
          ],
          "name": "stderr"
        }
      ]
    },
    {
      "cell_type": "code",
      "metadata": {
        "id": "n4LO-56ckuvX"
      },
      "source": [
        "# Reset the index of no nan values df\n",
        "players_bowling_df = players_bowling_df.reset_index()"
      ],
      "execution_count": 82,
      "outputs": []
    },
    {
      "cell_type": "code",
      "metadata": {
        "id": "OUm0Kc_6kv1R"
      },
      "source": [
        "# Groupby bowling skill and count the number of players\n",
        "players_bowling_df = players_bowling_df.groupby('Bowling_Skill')[['index']].count()"
      ],
      "execution_count": 83,
      "outputs": []
    },
    {
      "cell_type": "code",
      "metadata": {
        "colab": {
          "base_uri": "https://localhost:8080/",
          "height": 576
        },
        "id": "lk74TM7jkwt2",
        "outputId": "05cd2a91-179f-46ee-ad83-6225c3774f5d"
      },
      "source": [
        "players_bowling_df"
      ],
      "execution_count": 84,
      "outputs": [
        {
          "output_type": "execute_result",
          "data": {
            "text/html": [
              "<div>\n",
              "<style scoped>\n",
              "    .dataframe tbody tr th:only-of-type {\n",
              "        vertical-align: middle;\n",
              "    }\n",
              "\n",
              "    .dataframe tbody tr th {\n",
              "        vertical-align: top;\n",
              "    }\n",
              "\n",
              "    .dataframe thead th {\n",
              "        text-align: right;\n",
              "    }\n",
              "</style>\n",
              "<table border=\"1\" class=\"dataframe\">\n",
              "  <thead>\n",
              "    <tr style=\"text-align: right;\">\n",
              "      <th></th>\n",
              "      <th>index</th>\n",
              "    </tr>\n",
              "    <tr>\n",
              "      <th>Bowling_Skill</th>\n",
              "      <th></th>\n",
              "    </tr>\n",
              "  </thead>\n",
              "  <tbody>\n",
              "    <tr>\n",
              "      <th>Left-arm fast</th>\n",
              "      <td>4</td>\n",
              "    </tr>\n",
              "    <tr>\n",
              "      <th>Left-arm fast-medium</th>\n",
              "      <td>19</td>\n",
              "    </tr>\n",
              "    <tr>\n",
              "      <th>Left-arm medium</th>\n",
              "      <td>11</td>\n",
              "    </tr>\n",
              "    <tr>\n",
              "      <th>Left-arm medium-fast</th>\n",
              "      <td>9</td>\n",
              "    </tr>\n",
              "    <tr>\n",
              "      <th>Legbreak</th>\n",
              "      <td>30</td>\n",
              "    </tr>\n",
              "    <tr>\n",
              "      <th>Legbreak googly</th>\n",
              "      <td>28</td>\n",
              "    </tr>\n",
              "    <tr>\n",
              "      <th>Right-arm Fast</th>\n",
              "      <td>1</td>\n",
              "    </tr>\n",
              "    <tr>\n",
              "      <th>Right-arm Medium</th>\n",
              "      <td>1</td>\n",
              "    </tr>\n",
              "    <tr>\n",
              "      <th>Right-arm bowler</th>\n",
              "      <td>1</td>\n",
              "    </tr>\n",
              "    <tr>\n",
              "      <th>Right-arm fast</th>\n",
              "      <td>39</td>\n",
              "    </tr>\n",
              "    <tr>\n",
              "      <th>Right-arm fast-medium</th>\n",
              "      <td>68</td>\n",
              "    </tr>\n",
              "    <tr>\n",
              "      <th>Right-arm medium</th>\n",
              "      <td>107</td>\n",
              "    </tr>\n",
              "    <tr>\n",
              "      <th>Right-arm medium-fast</th>\n",
              "      <td>38</td>\n",
              "    </tr>\n",
              "    <tr>\n",
              "      <th>Right-arm offbreak</th>\n",
              "      <td>91</td>\n",
              "    </tr>\n",
              "    <tr>\n",
              "      <th>Slow left-arm chinaman</th>\n",
              "      <td>5</td>\n",
              "    </tr>\n",
              "    <tr>\n",
              "      <th>Slow left-arm orthodox</th>\n",
              "      <td>50</td>\n",
              "    </tr>\n",
              "  </tbody>\n",
              "</table>\n",
              "</div>"
            ],
            "text/plain": [
              "                        index\n",
              "Bowling_Skill                \n",
              "Left-arm fast               4\n",
              "Left-arm fast-medium       19\n",
              "Left-arm medium            11\n",
              "Left-arm medium-fast        9\n",
              "Legbreak                   30\n",
              "Legbreak googly            28\n",
              "Right-arm Fast              1\n",
              "Right-arm Medium            1\n",
              "Right-arm bowler            1\n",
              "Right-arm fast             39\n",
              "Right-arm fast-medium      68\n",
              "Right-arm medium          107\n",
              "Right-arm medium-fast      38\n",
              "Right-arm offbreak         91\n",
              "Slow left-arm chinaman      5\n",
              "Slow left-arm orthodox     50"
            ]
          },
          "metadata": {
            "tags": []
          },
          "execution_count": 84
        }
      ]
    },
    {
      "cell_type": "code",
      "metadata": {
        "id": "Chl6Nftzkxqa"
      },
      "source": [
        "# Rename the index column and sort values according to number of players\n",
        "players_bowling_df.rename(columns = {'index' : 'number_of_players'}, inplace = True)\n",
        "players_bowling_df.sort_values(by = 'number_of_players', ascending = False, inplace = True)\n",
        "players_bowling_df = players_bowling_df.reset_index()"
      ],
      "execution_count": 85,
      "outputs": []
    },
    {
      "cell_type": "code",
      "metadata": {
        "colab": {
          "base_uri": "https://localhost:8080/",
          "height": 545
        },
        "id": "oYwV9FmvkyzO",
        "outputId": "1aadaa0d-ad85-41b8-8b3d-5503c9cbb659"
      },
      "source": [
        "players_bowling_df"
      ],
      "execution_count": 86,
      "outputs": [
        {
          "output_type": "execute_result",
          "data": {
            "text/html": [
              "<div>\n",
              "<style scoped>\n",
              "    .dataframe tbody tr th:only-of-type {\n",
              "        vertical-align: middle;\n",
              "    }\n",
              "\n",
              "    .dataframe tbody tr th {\n",
              "        vertical-align: top;\n",
              "    }\n",
              "\n",
              "    .dataframe thead th {\n",
              "        text-align: right;\n",
              "    }\n",
              "</style>\n",
              "<table border=\"1\" class=\"dataframe\">\n",
              "  <thead>\n",
              "    <tr style=\"text-align: right;\">\n",
              "      <th></th>\n",
              "      <th>Bowling_Skill</th>\n",
              "      <th>number_of_players</th>\n",
              "    </tr>\n",
              "  </thead>\n",
              "  <tbody>\n",
              "    <tr>\n",
              "      <th>0</th>\n",
              "      <td>Right-arm medium</td>\n",
              "      <td>107</td>\n",
              "    </tr>\n",
              "    <tr>\n",
              "      <th>1</th>\n",
              "      <td>Right-arm offbreak</td>\n",
              "      <td>91</td>\n",
              "    </tr>\n",
              "    <tr>\n",
              "      <th>2</th>\n",
              "      <td>Right-arm fast-medium</td>\n",
              "      <td>68</td>\n",
              "    </tr>\n",
              "    <tr>\n",
              "      <th>3</th>\n",
              "      <td>Slow left-arm orthodox</td>\n",
              "      <td>50</td>\n",
              "    </tr>\n",
              "    <tr>\n",
              "      <th>4</th>\n",
              "      <td>Right-arm fast</td>\n",
              "      <td>39</td>\n",
              "    </tr>\n",
              "    <tr>\n",
              "      <th>5</th>\n",
              "      <td>Right-arm medium-fast</td>\n",
              "      <td>38</td>\n",
              "    </tr>\n",
              "    <tr>\n",
              "      <th>6</th>\n",
              "      <td>Legbreak</td>\n",
              "      <td>30</td>\n",
              "    </tr>\n",
              "    <tr>\n",
              "      <th>7</th>\n",
              "      <td>Legbreak googly</td>\n",
              "      <td>28</td>\n",
              "    </tr>\n",
              "    <tr>\n",
              "      <th>8</th>\n",
              "      <td>Left-arm fast-medium</td>\n",
              "      <td>19</td>\n",
              "    </tr>\n",
              "    <tr>\n",
              "      <th>9</th>\n",
              "      <td>Left-arm medium</td>\n",
              "      <td>11</td>\n",
              "    </tr>\n",
              "    <tr>\n",
              "      <th>10</th>\n",
              "      <td>Left-arm medium-fast</td>\n",
              "      <td>9</td>\n",
              "    </tr>\n",
              "    <tr>\n",
              "      <th>11</th>\n",
              "      <td>Slow left-arm chinaman</td>\n",
              "      <td>5</td>\n",
              "    </tr>\n",
              "    <tr>\n",
              "      <th>12</th>\n",
              "      <td>Left-arm fast</td>\n",
              "      <td>4</td>\n",
              "    </tr>\n",
              "    <tr>\n",
              "      <th>13</th>\n",
              "      <td>Right-arm Fast</td>\n",
              "      <td>1</td>\n",
              "    </tr>\n",
              "    <tr>\n",
              "      <th>14</th>\n",
              "      <td>Right-arm Medium</td>\n",
              "      <td>1</td>\n",
              "    </tr>\n",
              "    <tr>\n",
              "      <th>15</th>\n",
              "      <td>Right-arm bowler</td>\n",
              "      <td>1</td>\n",
              "    </tr>\n",
              "  </tbody>\n",
              "</table>\n",
              "</div>"
            ],
            "text/plain": [
              "             Bowling_Skill  number_of_players\n",
              "0         Right-arm medium                107\n",
              "1       Right-arm offbreak                 91\n",
              "2    Right-arm fast-medium                 68\n",
              "3   Slow left-arm orthodox                 50\n",
              "4           Right-arm fast                 39\n",
              "5    Right-arm medium-fast                 38\n",
              "6                 Legbreak                 30\n",
              "7          Legbreak googly                 28\n",
              "8     Left-arm fast-medium                 19\n",
              "9          Left-arm medium                 11\n",
              "10    Left-arm medium-fast                  9\n",
              "11  Slow left-arm chinaman                  5\n",
              "12           Left-arm fast                  4\n",
              "13          Right-arm Fast                  1\n",
              "14        Right-arm Medium                  1\n",
              "15        Right-arm bowler                  1"
            ]
          },
          "metadata": {
            "tags": []
          },
          "execution_count": 86
        }
      ]
    },
    {
      "cell_type": "code",
      "metadata": {
        "colab": {
          "base_uri": "https://localhost:8080/"
        },
        "id": "Sn7tWmTekzpI",
        "outputId": "d8d33699-71d0-4290-cefa-3ccc6bed0034"
      },
      "source": [
        "# Let us update the Right Arm medium bowlers\n",
        "players_bowling_df['number_of_players'][0] = players_bowling_df['number_of_players'][0] + players_bowling_df['number_of_players'][14]"
      ],
      "execution_count": 87,
      "outputs": [
        {
          "output_type": "stream",
          "text": [
            "/usr/local/lib/python3.7/dist-packages/ipykernel_launcher.py:2: SettingWithCopyWarning: \n",
            "A value is trying to be set on a copy of a slice from a DataFrame\n",
            "\n",
            "See the caveats in the documentation: https://pandas.pydata.org/pandas-docs/stable/user_guide/indexing.html#returning-a-view-versus-a-copy\n",
            "  \n"
          ],
          "name": "stderr"
        }
      ]
    },
    {
      "cell_type": "code",
      "metadata": {
        "id": "YUlcsTDyk0xY"
      },
      "source": [
        "# Drop extra Rgith Arm Medium bowlers\n",
        "players_bowling_df.drop(14, inplace = True)"
      ],
      "execution_count": 88,
      "outputs": []
    },
    {
      "cell_type": "code",
      "metadata": {
        "colab": {
          "base_uri": "https://localhost:8080/",
          "height": 768
        },
        "id": "Xyz1FX1pk1nY",
        "outputId": "af98acf5-b284-47b6-d3c2-e1b6683627cc"
      },
      "source": [
        "# Plot the bar graph for players bowling dataset\n",
        "plt.figure(figsize = (22, 10))\n",
        "plt.xticks(rotation = 90)\n",
        "plt.tick_params(labelsize = 12)\n",
        "\n",
        "plt.xlabel('Bowling Skills', fontweight = 'bold', fontsize = 18)\n",
        "plt.ylabel('Total Players', fontweight = 'bold', fontsize = 18)\n",
        "plt.title('Bowling skill number of players', fontweight = 'bold', fontsize = 20);\n",
        "\n",
        "plt.bar(players_bowling_df['Bowling_Skill'], players_bowling_df['number_of_players'], color = ['#3DCCC7']);"
      ],
      "execution_count": 89,
      "outputs": [
        {
          "output_type": "display_data",
          "data": {
            "image/png": "[encoded data removed]",
            "text/plain": [
              "<Figure size 1584x720 with 1 Axes>"
            ]
          },
          "metadata": {
            "tags": [],
            "needs_background": "light"
          }
        }
      ]
    },
    {
      "cell_type": "code",
      "metadata": {
        "id": "WBV6x2b9k2wa"
      },
      "source": [
        ""
      ],
      "execution_count": 89,
      "outputs": []
    },
    {
      "cell_type": "markdown",
      "metadata": {
        "id": "1TCAoahgL-wO"
      },
      "source": [
        "## **Conclusion**\n",
        "\n",
        "**Most number of players in ipl are Right arm medium bowlers - 108 players, followed by the right arm offbreak - 91 players**"
      ]
    },
    {
      "cell_type": "code",
      "metadata": {
        "id": "WDUYFIuYk4Qp"
      },
      "source": [
        ""
      ],
      "execution_count": 89,
      "outputs": []
    },
    {
      "cell_type": "code",
      "metadata": {
        "id": "rYHN7h6Rk5hz"
      },
      "source": [
        ""
      ],
      "execution_count": 89,
      "outputs": []
    },
    {
      "cell_type": "code",
      "metadata": {
        "id": "mCaMKdJwk5fa"
      },
      "source": [
        ""
      ],
      "execution_count": 89,
      "outputs": []
    },
    {
      "cell_type": "markdown",
      "metadata": {
        "id": "COhWd8udDWKq"
      },
      "source": [
        "## **Task-4 List of top 5 oldest players and youngest players by age**\n",
        "\n",
        "### **List of top 5 oldest players and younger players by age**"
      ]
    },
    {
      "cell_type": "code",
      "metadata": {
        "id": "ZW14uWIRk6Eg"
      },
      "source": [
        "# Make a copy of players_df - bowling skills column\n",
        "players_age_df = players_df[['Player_Name', 'DOB']]"
      ],
      "execution_count": 90,
      "outputs": []
    },
    {
      "cell_type": "code",
      "metadata": {
        "colab": {
          "base_uri": "https://localhost:8080/"
        },
        "id": "grcwp5ZQk65i",
        "outputId": "9f27e231-fb9b-41dd-9003-94309e2af6ec"
      },
      "source": [
        "# Drop the rows with nan values\n",
        "players_age_df.dropna(inplace = True)"
      ],
      "execution_count": 91,
      "outputs": [
        {
          "output_type": "stream",
          "text": [
            "/usr/local/lib/python3.7/dist-packages/ipykernel_launcher.py:2: SettingWithCopyWarning: \n",
            "A value is trying to be set on a copy of a slice from a DataFrame\n",
            "\n",
            "See the caveats in the documentation: https://pandas.pydata.org/pandas-docs/stable/user_guide/indexing.html#returning-a-view-versus-a-copy\n",
            "  \n"
          ],
          "name": "stderr"
        }
      ]
    },
    {
      "cell_type": "code",
      "metadata": {
        "id": "PYAAkMMuk76s"
      },
      "source": [
        "# Reset the index of no nan values df\n",
        "players_age_df = players_age_df.reset_index()\n",
        "players_age_df.drop(columns = ['index'], inplace = True)"
      ],
      "execution_count": 92,
      "outputs": []
    },
    {
      "cell_type": "code",
      "metadata": {
        "colab": {
          "base_uri": "https://localhost:8080/",
          "height": 417
        },
        "id": "QrQzyEYqk8-U",
        "outputId": "324dfe0d-e26b-4795-e0bd-a1610462933b"
      },
      "source": [
        "players_age_df"
      ],
      "execution_count": 93,
      "outputs": [
        {
          "output_type": "execute_result",
          "data": {
            "text/html": [
              "<div>\n",
              "<style scoped>\n",
              "    .dataframe tbody tr th:only-of-type {\n",
              "        vertical-align: middle;\n",
              "    }\n",
              "\n",
              "    .dataframe tbody tr th {\n",
              "        vertical-align: top;\n",
              "    }\n",
              "\n",
              "    .dataframe thead th {\n",
              "        text-align: right;\n",
              "    }\n",
              "</style>\n",
              "<table border=\"1\" class=\"dataframe\">\n",
              "  <thead>\n",
              "    <tr style=\"text-align: right;\">\n",
              "      <th></th>\n",
              "      <th>Player_Name</th>\n",
              "      <th>DOB</th>\n",
              "    </tr>\n",
              "  </thead>\n",
              "  <tbody>\n",
              "    <tr>\n",
              "      <th>0</th>\n",
              "      <td>A Ashish Reddy</td>\n",
              "      <td>1991-02-24</td>\n",
              "    </tr>\n",
              "    <tr>\n",
              "      <th>1</th>\n",
              "      <td>A Chandila</td>\n",
              "      <td>1983-12-05</td>\n",
              "    </tr>\n",
              "    <tr>\n",
              "      <th>2</th>\n",
              "      <td>A Chopra</td>\n",
              "      <td>1977-09-19</td>\n",
              "    </tr>\n",
              "    <tr>\n",
              "      <th>3</th>\n",
              "      <td>A Flintoff</td>\n",
              "      <td>1977-12-06</td>\n",
              "    </tr>\n",
              "    <tr>\n",
              "      <th>4</th>\n",
              "      <td>A Kumble</td>\n",
              "      <td>1970-10-17</td>\n",
              "    </tr>\n",
              "    <tr>\n",
              "      <th>...</th>\n",
              "      <td>...</td>\n",
              "      <td>...</td>\n",
              "    </tr>\n",
              "    <tr>\n",
              "      <th>466</th>\n",
              "      <td>Younis Khan</td>\n",
              "      <td>1977-11-29</td>\n",
              "    </tr>\n",
              "    <tr>\n",
              "      <th>467</th>\n",
              "      <td>YS Chahal</td>\n",
              "      <td>1990-07-23</td>\n",
              "    </tr>\n",
              "    <tr>\n",
              "      <th>468</th>\n",
              "      <td>Yuvraj Singh</td>\n",
              "      <td>1981-12-12</td>\n",
              "    </tr>\n",
              "    <tr>\n",
              "      <th>469</th>\n",
              "      <td>YV Takawale</td>\n",
              "      <td>1984-11-05</td>\n",
              "    </tr>\n",
              "    <tr>\n",
              "      <th>470</th>\n",
              "      <td>Z Khan</td>\n",
              "      <td>1978-10-07</td>\n",
              "    </tr>\n",
              "  </tbody>\n",
              "</table>\n",
              "<p>471 rows × 2 columns</p>\n",
              "</div>"
            ],
            "text/plain": [
              "        Player_Name        DOB\n",
              "0    A Ashish Reddy 1991-02-24\n",
              "1        A Chandila 1983-12-05\n",
              "2          A Chopra 1977-09-19\n",
              "3        A Flintoff 1977-12-06\n",
              "4          A Kumble 1970-10-17\n",
              "..              ...        ...\n",
              "466     Younis Khan 1977-11-29\n",
              "467       YS Chahal 1990-07-23\n",
              "468    Yuvraj Singh 1981-12-12\n",
              "469     YV Takawale 1984-11-05\n",
              "470          Z Khan 1978-10-07\n",
              "\n",
              "[471 rows x 2 columns]"
            ]
          },
          "metadata": {
            "tags": []
          },
          "execution_count": 93
        }
      ]
    },
    {
      "cell_type": "code",
      "metadata": {
        "id": "V6z2WS-zk99c"
      },
      "source": [
        "# Let's get the oldest player in ipl\n",
        "sorted_value_object = players_age_df.sort_values(by = 'DOB', ascending = True)"
      ],
      "execution_count": 94,
      "outputs": []
    },
    {
      "cell_type": "code",
      "metadata": {
        "colab": {
          "base_uri": "https://localhost:8080/",
          "height": 417
        },
        "id": "yGJFOZupk_DD",
        "outputId": "86d96a0d-9b6b-4ba6-da50-881880ea49ea"
      },
      "source": [
        "sorted_value_object"
      ],
      "execution_count": 95,
      "outputs": [
        {
          "output_type": "execute_result",
          "data": {
            "text/html": [
              "<div>\n",
              "<style scoped>\n",
              "    .dataframe tbody tr th:only-of-type {\n",
              "        vertical-align: middle;\n",
              "    }\n",
              "\n",
              "    .dataframe tbody tr th {\n",
              "        vertical-align: top;\n",
              "    }\n",
              "\n",
              "    .dataframe thead th {\n",
              "        text-align: right;\n",
              "    }\n",
              "</style>\n",
              "<table border=\"1\" class=\"dataframe\">\n",
              "  <thead>\n",
              "    <tr style=\"text-align: right;\">\n",
              "      <th></th>\n",
              "      <th>Player_Name</th>\n",
              "      <th>DOB</th>\n",
              "    </tr>\n",
              "  </thead>\n",
              "  <tbody>\n",
              "    <tr>\n",
              "      <th>414</th>\n",
              "      <td>ST Jayasuriya</td>\n",
              "      <td>1969-06-30</td>\n",
              "    </tr>\n",
              "    <tr>\n",
              "      <th>393</th>\n",
              "      <td>SK Warne</td>\n",
              "      <td>1969-09-13</td>\n",
              "    </tr>\n",
              "    <tr>\n",
              "      <th>126</th>\n",
              "      <td>DS Lehmann</td>\n",
              "      <td>1970-02-05</td>\n",
              "    </tr>\n",
              "    <tr>\n",
              "      <th>140</th>\n",
              "      <td>GD McGrath</td>\n",
              "      <td>1970-02-09</td>\n",
              "    </tr>\n",
              "    <tr>\n",
              "      <th>377</th>\n",
              "      <td>SB Joshi</td>\n",
              "      <td>1970-06-06</td>\n",
              "    </tr>\n",
              "    <tr>\n",
              "      <th>...</th>\n",
              "      <td>...</td>\n",
              "      <td>...</td>\n",
              "    </tr>\n",
              "    <tr>\n",
              "      <th>272</th>\n",
              "      <td>Mustafizur Rahman</td>\n",
              "      <td>1995-09-06</td>\n",
              "    </tr>\n",
              "    <tr>\n",
              "      <th>358</th>\n",
              "      <td>S Kaushik</td>\n",
              "      <td>1995-09-07</td>\n",
              "    </tr>\n",
              "    <tr>\n",
              "      <th>337</th>\n",
              "      <td>RR Pant</td>\n",
              "      <td>1997-10-04</td>\n",
              "    </tr>\n",
              "    <tr>\n",
              "      <th>400</th>\n",
              "      <td>SN Khan</td>\n",
              "      <td>1997-10-27</td>\n",
              "    </tr>\n",
              "    <tr>\n",
              "      <th>162</th>\n",
              "      <td>Ishan Kishan</td>\n",
              "      <td>1998-07-18</td>\n",
              "    </tr>\n",
              "  </tbody>\n",
              "</table>\n",
              "<p>471 rows × 2 columns</p>\n",
              "</div>"
            ],
            "text/plain": [
              "           Player_Name        DOB\n",
              "414      ST Jayasuriya 1969-06-30\n",
              "393           SK Warne 1969-09-13\n",
              "126         DS Lehmann 1970-02-05\n",
              "140         GD McGrath 1970-02-09\n",
              "377           SB Joshi 1970-06-06\n",
              "..                 ...        ...\n",
              "272  Mustafizur Rahman 1995-09-06\n",
              "358          S Kaushik 1995-09-07\n",
              "337            RR Pant 1997-10-04\n",
              "400            SN Khan 1997-10-27\n",
              "162       Ishan Kishan 1998-07-18\n",
              "\n",
              "[471 rows x 2 columns]"
            ]
          },
          "metadata": {
            "tags": []
          },
          "execution_count": 95
        }
      ]
    },
    {
      "cell_type": "code",
      "metadata": {
        "id": "RuahJ7Ayk_-n"
      },
      "source": [
        ""
      ],
      "execution_count": 95,
      "outputs": []
    },
    {
      "cell_type": "markdown",
      "metadata": {
        "id": "7pAdCvSLQg27"
      },
      "source": [
        "## **Conclusion**\n",
        "\n",
        "**Some of the oldest players by age of ipl are - St Jayasuriya, SK Warne, Ds Lehmann, GD McGrath, and SB Joshi**\n",
        "\n",
        "**Some of the youngest players by age of ipl are - Ishan Kishan, SN Khan, RR Pant, S Kaushik, and Mustafizur Rahman**"
      ]
    },
    {
      "cell_type": "code",
      "metadata": {
        "id": "kR7oYEeFlCiF"
      },
      "source": [
        ""
      ],
      "execution_count": 95,
      "outputs": []
    }
  ]
}