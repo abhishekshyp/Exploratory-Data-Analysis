{
  "nbformat": 4,
  "nbformat_minor": 0,
  "metadata": {
    "colab": {
      "name": "teamwise-matches-win.ipynb",
      "provenance": [],
      "collapsed_sections": []
    },
    "kernelspec": {
      "name": "python3",
      "display_name": "Python 3"
    },
    "language_info": {
      "name": "python"
    }
  },
  "cells": [
    {
      "cell_type": "code",
      "metadata": {
        "id": "GWF24ZxzlB0a"
      },
      "source": [
        ""
      ],
      "execution_count": null,
      "outputs": []
    },
    {
      "cell_type": "markdown",
      "metadata": {
        "id": "CNDbCwnoQpD1"
      },
      "source": [
        "# **Exploratory Data Analysis of Teamwise Home and Away matches**\n",
        "\n",
        "### **In this step we will be analysing the Teamwise Home and Away matches data**"
      ]
    },
    {
      "cell_type": "code",
      "metadata": {
        "id": "WLTIhtqxmL_r"
      },
      "source": [
        "# Importing the Libraries\n",
        "import numpy as np\n",
        "import pandas as pd\n",
        "import seaborn as sns\n",
        "import matplotlib.pyplot as plt"
      ],
      "execution_count": 2,
      "outputs": []
    },
    {
      "cell_type": "code",
      "metadata": {
        "id": "kf09es-LlZ0Y"
      },
      "source": [
        "# Reading the csv file\n",
        "team_df = pd.read_csv('/content/drive/MyDrive/Colab Notebooks/Exploratory Data Analysis/3. IPL/5. Team Matches Wins/teamwise_home_and_away.csv')"
      ],
      "execution_count": 3,
      "outputs": []
    },
    {
      "cell_type": "code",
      "metadata": {
        "id": "HDjzkNFhmIUM"
      },
      "source": [
        ""
      ],
      "execution_count": null,
      "outputs": []
    },
    {
      "cell_type": "markdown",
      "metadata": {
        "id": "gLPTJtZpROGZ"
      },
      "source": [
        "# **Step 1: Skimming over the Dataset and Analysing the Data**\n",
        "\n",
        "### **In this step we will be analysing the dataset**"
      ]
    },
    {
      "cell_type": "code",
      "metadata": {
        "colab": {
          "base_uri": "https://localhost:8080/"
        },
        "id": "bhgoL8OXmTvD",
        "outputId": "ca90593e-2546-424b-f46a-4532c55fac87"
      },
      "source": [
        "# Shape of the dataset\n",
        "team_df.shape"
      ],
      "execution_count": 4,
      "outputs": [
        {
          "output_type": "execute_result",
          "data": {
            "text/plain": [
              "(14, 7)"
            ]
          },
          "metadata": {
            "tags": []
          },
          "execution_count": 4
        }
      ]
    },
    {
      "cell_type": "code",
      "metadata": {
        "colab": {
          "base_uri": "https://localhost:8080/"
        },
        "id": "hc2PZiKAmVEe",
        "outputId": "52fba082-84b0-4f31-c9f5-7bf56bb5d016"
      },
      "source": [
        "# Columns in the dataset\n",
        "team_df.columns"
      ],
      "execution_count": 5,
      "outputs": [
        {
          "output_type": "execute_result",
          "data": {
            "text/plain": [
              "Index(['team', 'home_wins', 'away_wins', 'home_matches', 'away_matches',\n",
              "       'home_win_percentage', 'away_win_percentage'],\n",
              "      dtype='object')"
            ]
          },
          "metadata": {
            "tags": []
          },
          "execution_count": 5
        }
      ]
    },
    {
      "cell_type": "code",
      "metadata": {
        "colab": {
          "base_uri": "https://localhost:8080/"
        },
        "id": "h_H7w9T8mWuT",
        "outputId": "dfd4691f-7751-4f78-b7c2-b14e7129d70f"
      },
      "source": [
        "# Info of the dataset\n",
        "team_df.info()"
      ],
      "execution_count": 6,
      "outputs": [
        {
          "output_type": "stream",
          "text": [
            "<class 'pandas.core.frame.DataFrame'>\n",
            "RangeIndex: 14 entries, 0 to 13\n",
            "Data columns (total 7 columns):\n",
            " #   Column               Non-Null Count  Dtype  \n",
            "---  ------               --------------  -----  \n",
            " 0   team                 14 non-null     object \n",
            " 1   home_wins            14 non-null     int64  \n",
            " 2   away_wins            14 non-null     int64  \n",
            " 3   home_matches         14 non-null     int64  \n",
            " 4   away_matches         14 non-null     int64  \n",
            " 5   home_win_percentage  14 non-null     float64\n",
            " 6   away_win_percentage  14 non-null     float64\n",
            "dtypes: float64(2), int64(4), object(1)\n",
            "memory usage: 912.0+ bytes\n"
          ],
          "name": "stdout"
        }
      ]
    },
    {
      "cell_type": "code",
      "metadata": {
        "colab": {
          "base_uri": "https://localhost:8080/"
        },
        "id": "F7bU2ZUtmYB5",
        "outputId": "5152fa19-471c-4445-9180-086182c6ec99"
      },
      "source": [
        "# Describe the dataset\n",
        "team_df.describe"
      ],
      "execution_count": 7,
      "outputs": [
        {
          "output_type": "execute_result",
          "data": {
            "text/plain": [
              "<bound method NDFrame.describe of                            team  ...  away_win_percentage\n",
              "0        Rising Pune Supergiant  ...            62.500000\n",
              "1                Mumbai Indians  ...            59.302326\n",
              "2           Chennai Super Kings  ...            65.333333\n",
              "3                Delhi Capitals  ...            70.000000\n",
              "4           Sunrisers Hyderabad  ...            62.222222\n",
              "5              Rajasthan Royals  ...            57.500000\n",
              "6               Deccan Chargers  ...            34.375000\n",
              "7               Kings XI Punjab  ...            51.764706\n",
              "8   Royal Challengers Bangalore  ...            51.578947\n",
              "9         Kolkata Knight Riders  ...            61.052632\n",
              "10             Delhi Daredevils  ...            47.191011\n",
              "11                Pune Warriors  ...            23.076923\n",
              "12         Kochi Tuskers Kerala  ...            57.142857\n",
              "13                Gujarat Lions  ...            75.000000\n",
              "\n",
              "[14 rows x 7 columns]>"
            ]
          },
          "metadata": {
            "tags": []
          },
          "execution_count": 7
        }
      ]
    },
    {
      "cell_type": "code",
      "metadata": {
        "colab": {
          "base_uri": "https://localhost:8080/",
          "height": 480
        },
        "id": "XUHY35-2mZJs",
        "outputId": "dd78c4ad-04a0-4218-d9d0-541db4ffd0d9"
      },
      "source": [
        "team_df"
      ],
      "execution_count": 8,
      "outputs": [
        {
          "output_type": "execute_result",
          "data": {
            "text/html": [
              "<div>\n",
              "<style scoped>\n",
              "    .dataframe tbody tr th:only-of-type {\n",
              "        vertical-align: middle;\n",
              "    }\n",
              "\n",
              "    .dataframe tbody tr th {\n",
              "        vertical-align: top;\n",
              "    }\n",
              "\n",
              "    .dataframe thead th {\n",
              "        text-align: right;\n",
              "    }\n",
              "</style>\n",
              "<table border=\"1\" class=\"dataframe\">\n",
              "  <thead>\n",
              "    <tr style=\"text-align: right;\">\n",
              "      <th></th>\n",
              "      <th>team</th>\n",
              "      <th>home_wins</th>\n",
              "      <th>away_wins</th>\n",
              "      <th>home_matches</th>\n",
              "      <th>away_matches</th>\n",
              "      <th>home_win_percentage</th>\n",
              "      <th>away_win_percentage</th>\n",
              "    </tr>\n",
              "  </thead>\n",
              "  <tbody>\n",
              "    <tr>\n",
              "      <th>0</th>\n",
              "      <td>Rising Pune Supergiant</td>\n",
              "      <td>5</td>\n",
              "      <td>5</td>\n",
              "      <td>8</td>\n",
              "      <td>8</td>\n",
              "      <td>62.500000</td>\n",
              "      <td>62.500000</td>\n",
              "    </tr>\n",
              "    <tr>\n",
              "      <th>1</th>\n",
              "      <td>Mumbai Indians</td>\n",
              "      <td>58</td>\n",
              "      <td>51</td>\n",
              "      <td>101</td>\n",
              "      <td>86</td>\n",
              "      <td>57.425743</td>\n",
              "      <td>59.302326</td>\n",
              "    </tr>\n",
              "    <tr>\n",
              "      <th>2</th>\n",
              "      <td>Chennai Super Kings</td>\n",
              "      <td>51</td>\n",
              "      <td>49</td>\n",
              "      <td>89</td>\n",
              "      <td>75</td>\n",
              "      <td>57.303371</td>\n",
              "      <td>65.333333</td>\n",
              "    </tr>\n",
              "    <tr>\n",
              "      <th>3</th>\n",
              "      <td>Delhi Capitals</td>\n",
              "      <td>3</td>\n",
              "      <td>7</td>\n",
              "      <td>6</td>\n",
              "      <td>10</td>\n",
              "      <td>50.000000</td>\n",
              "      <td>70.000000</td>\n",
              "    </tr>\n",
              "    <tr>\n",
              "      <th>4</th>\n",
              "      <td>Sunrisers Hyderabad</td>\n",
              "      <td>30</td>\n",
              "      <td>28</td>\n",
              "      <td>63</td>\n",
              "      <td>45</td>\n",
              "      <td>47.619048</td>\n",
              "      <td>62.222222</td>\n",
              "    </tr>\n",
              "    <tr>\n",
              "      <th>5</th>\n",
              "      <td>Rajasthan Royals</td>\n",
              "      <td>29</td>\n",
              "      <td>46</td>\n",
              "      <td>67</td>\n",
              "      <td>80</td>\n",
              "      <td>43.283582</td>\n",
              "      <td>57.500000</td>\n",
              "    </tr>\n",
              "    <tr>\n",
              "      <th>6</th>\n",
              "      <td>Deccan Chargers</td>\n",
              "      <td>18</td>\n",
              "      <td>11</td>\n",
              "      <td>43</td>\n",
              "      <td>32</td>\n",
              "      <td>41.860465</td>\n",
              "      <td>34.375000</td>\n",
              "    </tr>\n",
              "    <tr>\n",
              "      <th>7</th>\n",
              "      <td>Kings XI Punjab</td>\n",
              "      <td>38</td>\n",
              "      <td>44</td>\n",
              "      <td>91</td>\n",
              "      <td>85</td>\n",
              "      <td>41.758242</td>\n",
              "      <td>51.764706</td>\n",
              "    </tr>\n",
              "    <tr>\n",
              "      <th>8</th>\n",
              "      <td>Royal Challengers Bangalore</td>\n",
              "      <td>35</td>\n",
              "      <td>49</td>\n",
              "      <td>85</td>\n",
              "      <td>95</td>\n",
              "      <td>41.176471</td>\n",
              "      <td>51.578947</td>\n",
              "    </tr>\n",
              "    <tr>\n",
              "      <th>9</th>\n",
              "      <td>Kolkata Knight Riders</td>\n",
              "      <td>34</td>\n",
              "      <td>58</td>\n",
              "      <td>83</td>\n",
              "      <td>95</td>\n",
              "      <td>40.963855</td>\n",
              "      <td>61.052632</td>\n",
              "    </tr>\n",
              "    <tr>\n",
              "      <th>10</th>\n",
              "      <td>Delhi Daredevils</td>\n",
              "      <td>25</td>\n",
              "      <td>42</td>\n",
              "      <td>72</td>\n",
              "      <td>89</td>\n",
              "      <td>34.722222</td>\n",
              "      <td>47.191011</td>\n",
              "    </tr>\n",
              "    <tr>\n",
              "      <th>11</th>\n",
              "      <td>Pune Warriors</td>\n",
              "      <td>6</td>\n",
              "      <td>6</td>\n",
              "      <td>20</td>\n",
              "      <td>26</td>\n",
              "      <td>30.000000</td>\n",
              "      <td>23.076923</td>\n",
              "    </tr>\n",
              "    <tr>\n",
              "      <th>12</th>\n",
              "      <td>Kochi Tuskers Kerala</td>\n",
              "      <td>2</td>\n",
              "      <td>4</td>\n",
              "      <td>7</td>\n",
              "      <td>7</td>\n",
              "      <td>28.571429</td>\n",
              "      <td>57.142857</td>\n",
              "    </tr>\n",
              "    <tr>\n",
              "      <th>13</th>\n",
              "      <td>Gujarat Lions</td>\n",
              "      <td>1</td>\n",
              "      <td>12</td>\n",
              "      <td>14</td>\n",
              "      <td>16</td>\n",
              "      <td>7.142857</td>\n",
              "      <td>75.000000</td>\n",
              "    </tr>\n",
              "  </tbody>\n",
              "</table>\n",
              "</div>"
            ],
            "text/plain": [
              "                           team  ...  away_win_percentage\n",
              "0        Rising Pune Supergiant  ...            62.500000\n",
              "1                Mumbai Indians  ...            59.302326\n",
              "2           Chennai Super Kings  ...            65.333333\n",
              "3                Delhi Capitals  ...            70.000000\n",
              "4           Sunrisers Hyderabad  ...            62.222222\n",
              "5              Rajasthan Royals  ...            57.500000\n",
              "6               Deccan Chargers  ...            34.375000\n",
              "7               Kings XI Punjab  ...            51.764706\n",
              "8   Royal Challengers Bangalore  ...            51.578947\n",
              "9         Kolkata Knight Riders  ...            61.052632\n",
              "10             Delhi Daredevils  ...            47.191011\n",
              "11                Pune Warriors  ...            23.076923\n",
              "12         Kochi Tuskers Kerala  ...            57.142857\n",
              "13                Gujarat Lions  ...            75.000000\n",
              "\n",
              "[14 rows x 7 columns]"
            ]
          },
          "metadata": {
            "tags": []
          },
          "execution_count": 8
        }
      ]
    },
    {
      "cell_type": "code",
      "metadata": {
        "id": "-pMlpbTvmacX"
      },
      "source": [
        "# We can see that data cleaning and updatin is required - 'Delhi Capitals' - 'Delhi Daredevils', 'Pune Warriors' - 'Rising Pune Supergiant'"
      ],
      "execution_count": 9,
      "outputs": []
    },
    {
      "cell_type": "code",
      "metadata": {
        "id": "Wknvo30XmbxD"
      },
      "source": [
        ""
      ],
      "execution_count": null,
      "outputs": []
    },
    {
      "cell_type": "markdown",
      "metadata": {
        "id": "DkLaBZHfSAdy"
      },
      "source": [
        "# **Step 2: Data Cleaning and Updating Columns**\n",
        "\n",
        "### **In this step we will be cleaning the data (ex: removing null values, and empty columns if any)**"
      ]
    },
    {
      "cell_type": "code",
      "metadata": {
        "id": "6SUjGA2RmdQm"
      },
      "source": [
        "# Updating the team names and values\n",
        "delhi_teams_df = team_df.loc[(team_df['team'] == 'Delhi Daredevils') | (team_df['team'] == 'Delhi Capitals')].reset_index()\n",
        "pune_teams_df = team_df.loc[(team_df['team'] == 'Rising Pune Supergiant') | (team_df['team'] == 'Pune Warriors')].reset_index()"
      ],
      "execution_count": 10,
      "outputs": []
    },
    {
      "cell_type": "code",
      "metadata": {
        "colab": {
          "base_uri": "https://localhost:8080/",
          "height": 110
        },
        "id": "f-Ezk3JgmeQ-",
        "outputId": "38fafa40-9596-4aba-e756-ee36383f4a41"
      },
      "source": [
        "# Drop the index column\n",
        "delhi_teams_df.drop(columns = ['index'])\n",
        "pune_teams_df.drop(columns = ['index'])"
      ],
      "execution_count": 11,
      "outputs": [
        {
          "output_type": "execute_result",
          "data": {
            "text/html": [
              "<div>\n",
              "<style scoped>\n",
              "    .dataframe tbody tr th:only-of-type {\n",
              "        vertical-align: middle;\n",
              "    }\n",
              "\n",
              "    .dataframe tbody tr th {\n",
              "        vertical-align: top;\n",
              "    }\n",
              "\n",
              "    .dataframe thead th {\n",
              "        text-align: right;\n",
              "    }\n",
              "</style>\n",
              "<table border=\"1\" class=\"dataframe\">\n",
              "  <thead>\n",
              "    <tr style=\"text-align: right;\">\n",
              "      <th></th>\n",
              "      <th>team</th>\n",
              "      <th>home_wins</th>\n",
              "      <th>away_wins</th>\n",
              "      <th>home_matches</th>\n",
              "      <th>away_matches</th>\n",
              "      <th>home_win_percentage</th>\n",
              "      <th>away_win_percentage</th>\n",
              "    </tr>\n",
              "  </thead>\n",
              "  <tbody>\n",
              "    <tr>\n",
              "      <th>0</th>\n",
              "      <td>Rising Pune Supergiant</td>\n",
              "      <td>5</td>\n",
              "      <td>5</td>\n",
              "      <td>8</td>\n",
              "      <td>8</td>\n",
              "      <td>62.5</td>\n",
              "      <td>62.500000</td>\n",
              "    </tr>\n",
              "    <tr>\n",
              "      <th>1</th>\n",
              "      <td>Pune Warriors</td>\n",
              "      <td>6</td>\n",
              "      <td>6</td>\n",
              "      <td>20</td>\n",
              "      <td>26</td>\n",
              "      <td>30.0</td>\n",
              "      <td>23.076923</td>\n",
              "    </tr>\n",
              "  </tbody>\n",
              "</table>\n",
              "</div>"
            ],
            "text/plain": [
              "                     team  home_wins  ...  home_win_percentage  away_win_percentage\n",
              "0  Rising Pune Supergiant          5  ...                 62.5            62.500000\n",
              "1           Pune Warriors          6  ...                 30.0            23.076923\n",
              "\n",
              "[2 rows x 7 columns]"
            ]
          },
          "metadata": {
            "tags": []
          },
          "execution_count": 11
        }
      ]
    },
    {
      "cell_type": "code",
      "metadata": {
        "colab": {
          "base_uri": "https://localhost:8080/",
          "height": 110
        },
        "id": "Z5l7o5lamfMg",
        "outputId": "34310aa4-521a-4188-ca51-b5034bdc3dfb"
      },
      "source": [
        "delhi_teams_df"
      ],
      "execution_count": 12,
      "outputs": [
        {
          "output_type": "execute_result",
          "data": {
            "text/html": [
              "<div>\n",
              "<style scoped>\n",
              "    .dataframe tbody tr th:only-of-type {\n",
              "        vertical-align: middle;\n",
              "    }\n",
              "\n",
              "    .dataframe tbody tr th {\n",
              "        vertical-align: top;\n",
              "    }\n",
              "\n",
              "    .dataframe thead th {\n",
              "        text-align: right;\n",
              "    }\n",
              "</style>\n",
              "<table border=\"1\" class=\"dataframe\">\n",
              "  <thead>\n",
              "    <tr style=\"text-align: right;\">\n",
              "      <th></th>\n",
              "      <th>index</th>\n",
              "      <th>team</th>\n",
              "      <th>home_wins</th>\n",
              "      <th>away_wins</th>\n",
              "      <th>home_matches</th>\n",
              "      <th>away_matches</th>\n",
              "      <th>home_win_percentage</th>\n",
              "      <th>away_win_percentage</th>\n",
              "    </tr>\n",
              "  </thead>\n",
              "  <tbody>\n",
              "    <tr>\n",
              "      <th>0</th>\n",
              "      <td>3</td>\n",
              "      <td>Delhi Capitals</td>\n",
              "      <td>3</td>\n",
              "      <td>7</td>\n",
              "      <td>6</td>\n",
              "      <td>10</td>\n",
              "      <td>50.000000</td>\n",
              "      <td>70.000000</td>\n",
              "    </tr>\n",
              "    <tr>\n",
              "      <th>1</th>\n",
              "      <td>10</td>\n",
              "      <td>Delhi Daredevils</td>\n",
              "      <td>25</td>\n",
              "      <td>42</td>\n",
              "      <td>72</td>\n",
              "      <td>89</td>\n",
              "      <td>34.722222</td>\n",
              "      <td>47.191011</td>\n",
              "    </tr>\n",
              "  </tbody>\n",
              "</table>\n",
              "</div>"
            ],
            "text/plain": [
              "   index              team  ...  home_win_percentage  away_win_percentage\n",
              "0      3    Delhi Capitals  ...            50.000000            70.000000\n",
              "1     10  Delhi Daredevils  ...            34.722222            47.191011\n",
              "\n",
              "[2 rows x 8 columns]"
            ]
          },
          "metadata": {
            "tags": []
          },
          "execution_count": 12
        }
      ]
    },
    {
      "cell_type": "code",
      "metadata": {
        "colab": {
          "base_uri": "https://localhost:8080/"
        },
        "id": "mMmUFrGvmgOe",
        "outputId": "5ed79f82-7890-4761-d6e3-8862ce41201d"
      },
      "source": [
        "# Let's update the 'Delhi Capitals' data\n",
        "delhi_teams_df['home_wins'][0] = delhi_teams_df['home_wins'][0] + delhi_teams_df['home_wins'][1]\n",
        "delhi_teams_df['away_wins'][0] = delhi_teams_df['away_wins'][0] + delhi_teams_df['away_wins'][1]\n",
        "\n",
        "delhi_teams_df['home_matches'][0] = delhi_teams_df['home_matches'][0] + delhi_teams_df['home_matches'][1]\n",
        "delhi_teams_df['away_matches'][0] = delhi_teams_df['away_matches'][0] + delhi_teams_df['away_matches'][1]"
      ],
      "execution_count": 13,
      "outputs": [
        {
          "output_type": "stream",
          "text": [
            "/usr/local/lib/python3.7/dist-packages/ipykernel_launcher.py:2: SettingWithCopyWarning: \n",
            "A value is trying to be set on a copy of a slice from a DataFrame\n",
            "\n",
            "See the caveats in the documentation: https://pandas.pydata.org/pandas-docs/stable/user_guide/indexing.html#returning-a-view-versus-a-copy\n",
            "  \n",
            "/usr/local/lib/python3.7/dist-packages/ipykernel_launcher.py:3: SettingWithCopyWarning: \n",
            "A value is trying to be set on a copy of a slice from a DataFrame\n",
            "\n",
            "See the caveats in the documentation: https://pandas.pydata.org/pandas-docs/stable/user_guide/indexing.html#returning-a-view-versus-a-copy\n",
            "  This is separate from the ipykernel package so we can avoid doing imports until\n",
            "/usr/local/lib/python3.7/dist-packages/ipykernel_launcher.py:5: SettingWithCopyWarning: \n",
            "A value is trying to be set on a copy of a slice from a DataFrame\n",
            "\n",
            "See the caveats in the documentation: https://pandas.pydata.org/pandas-docs/stable/user_guide/indexing.html#returning-a-view-versus-a-copy\n",
            "  \"\"\"\n",
            "/usr/local/lib/python3.7/dist-packages/ipykernel_launcher.py:6: SettingWithCopyWarning: \n",
            "A value is trying to be set on a copy of a slice from a DataFrame\n",
            "\n",
            "See the caveats in the documentation: https://pandas.pydata.org/pandas-docs/stable/user_guide/indexing.html#returning-a-view-versus-a-copy\n",
            "  \n"
          ],
          "name": "stderr"
        }
      ]
    },
    {
      "cell_type": "code",
      "metadata": {
        "colab": {
          "base_uri": "https://localhost:8080/"
        },
        "id": "OENX8pvFmhaG",
        "outputId": "84ef086e-9dde-4830-8f91-aa9a440aaf6b"
      },
      "source": [
        "# Let's update the 'Rising Pune Supergiant' data\n",
        "pune_teams_df['home_wins'][0] = pune_teams_df['home_wins'][0] + pune_teams_df['home_wins'][1]\n",
        "pune_teams_df['away_wins'][0] = pune_teams_df['away_wins'][0] + pune_teams_df['away_wins'][1]\n",
        "\n",
        "pune_teams_df['home_matches'][0] = pune_teams_df['home_matches'][0] + pune_teams_df['home_matches'][1]\n",
        "pune_teams_df['away_matches'][0] = pune_teams_df['away_matches'][0] + pune_teams_df['away_matches'][1]"
      ],
      "execution_count": 14,
      "outputs": [
        {
          "output_type": "stream",
          "text": [
            "/usr/local/lib/python3.7/dist-packages/ipykernel_launcher.py:2: SettingWithCopyWarning: \n",
            "A value is trying to be set on a copy of a slice from a DataFrame\n",
            "\n",
            "See the caveats in the documentation: https://pandas.pydata.org/pandas-docs/stable/user_guide/indexing.html#returning-a-view-versus-a-copy\n",
            "  \n",
            "/usr/local/lib/python3.7/dist-packages/ipykernel_launcher.py:3: SettingWithCopyWarning: \n",
            "A value is trying to be set on a copy of a slice from a DataFrame\n",
            "\n",
            "See the caveats in the documentation: https://pandas.pydata.org/pandas-docs/stable/user_guide/indexing.html#returning-a-view-versus-a-copy\n",
            "  This is separate from the ipykernel package so we can avoid doing imports until\n",
            "/usr/local/lib/python3.7/dist-packages/ipykernel_launcher.py:5: SettingWithCopyWarning: \n",
            "A value is trying to be set on a copy of a slice from a DataFrame\n",
            "\n",
            "See the caveats in the documentation: https://pandas.pydata.org/pandas-docs/stable/user_guide/indexing.html#returning-a-view-versus-a-copy\n",
            "  \"\"\"\n",
            "/usr/local/lib/python3.7/dist-packages/ipykernel_launcher.py:6: SettingWithCopyWarning: \n",
            "A value is trying to be set on a copy of a slice from a DataFrame\n",
            "\n",
            "See the caveats in the documentation: https://pandas.pydata.org/pandas-docs/stable/user_guide/indexing.html#returning-a-view-versus-a-copy\n",
            "  \n"
          ],
          "name": "stderr"
        }
      ]
    },
    {
      "cell_type": "code",
      "metadata": {
        "colab": {
          "base_uri": "https://localhost:8080/"
        },
        "id": "eYM9vCcXmisI",
        "outputId": "70ac74a7-62e3-4a6c-cc29-8030a44fda6d"
      },
      "source": [
        "# Update the percentage values of both the tables\n",
        "delhi_teams_df['home_win_percentage'][0] = (delhi_teams_df['home_wins'][0] / delhi_teams_df['home_matches'][0]) * 100\n",
        "delhi_teams_df['away_win_percentage'][0] = (delhi_teams_df['away_wins'][0] / delhi_teams_df['away_matches'][0]) * 100\n",
        "\n",
        "pune_teams_df['home_win_percentage'][0] = (pune_teams_df['home_wins'][0] / pune_teams_df['home_matches'][0]) * 100\n",
        "pune_teams_df['away_win_percentage'][0] = (pune_teams_df['away_wins'][0] / pune_teams_df['away_matches'][0]) * 100"
      ],
      "execution_count": 15,
      "outputs": [
        {
          "output_type": "stream",
          "text": [
            "/usr/local/lib/python3.7/dist-packages/ipykernel_launcher.py:2: SettingWithCopyWarning: \n",
            "A value is trying to be set on a copy of a slice from a DataFrame\n",
            "\n",
            "See the caveats in the documentation: https://pandas.pydata.org/pandas-docs/stable/user_guide/indexing.html#returning-a-view-versus-a-copy\n",
            "  \n",
            "/usr/local/lib/python3.7/dist-packages/ipykernel_launcher.py:3: SettingWithCopyWarning: \n",
            "A value is trying to be set on a copy of a slice from a DataFrame\n",
            "\n",
            "See the caveats in the documentation: https://pandas.pydata.org/pandas-docs/stable/user_guide/indexing.html#returning-a-view-versus-a-copy\n",
            "  This is separate from the ipykernel package so we can avoid doing imports until\n",
            "/usr/local/lib/python3.7/dist-packages/ipykernel_launcher.py:5: SettingWithCopyWarning: \n",
            "A value is trying to be set on a copy of a slice from a DataFrame\n",
            "\n",
            "See the caveats in the documentation: https://pandas.pydata.org/pandas-docs/stable/user_guide/indexing.html#returning-a-view-versus-a-copy\n",
            "  \"\"\"\n",
            "/usr/local/lib/python3.7/dist-packages/ipykernel_launcher.py:6: SettingWithCopyWarning: \n",
            "A value is trying to be set on a copy of a slice from a DataFrame\n",
            "\n",
            "See the caveats in the documentation: https://pandas.pydata.org/pandas-docs/stable/user_guide/indexing.html#returning-a-view-versus-a-copy\n",
            "  \n"
          ],
          "name": "stderr"
        }
      ]
    },
    {
      "cell_type": "code",
      "metadata": {
        "id": "nqJrgW7_mjy0"
      },
      "source": [
        "# Drop extra column\n",
        "delhi_teams_df.drop(columns = ['index'], inplace = True)\n",
        "pune_teams_df.drop(columns = ['index'], inplace = True)"
      ],
      "execution_count": 16,
      "outputs": []
    },
    {
      "cell_type": "code",
      "metadata": {
        "id": "yRlkDoStmlEx"
      },
      "source": [
        "# Lets drop the 'Delhi Daredevils and Rising Pune Supergiant' data from team_df\n",
        "team_df.drop(team_df.index[(team_df[\"team\"] == \"Delhi Daredevils\")], inplace = True)\n",
        "team_df.drop(team_df.index[(team_df[\"team\"] == \"Delhi Capitals\")], inplace = True)\n",
        "\n",
        "team_df.drop(team_df.index[(team_df[\"team\"] == \"Rising Pune Supergiant\")], inplace = True)\n",
        "team_df.drop(team_df.index[(team_df[\"team\"] == \"Pune Warriors\")], inplace = True)"
      ],
      "execution_count": 17,
      "outputs": []
    },
    {
      "cell_type": "code",
      "metadata": {
        "colab": {
          "base_uri": "https://localhost:8080/",
          "height": 357
        },
        "id": "UPE8ytUMmmCY",
        "outputId": "3cb8de6a-f2e3-4fc3-ad49-36e8d636e11e"
      },
      "source": [
        "team_df"
      ],
      "execution_count": 18,
      "outputs": [
        {
          "output_type": "execute_result",
          "data": {
            "text/html": [
              "<div>\n",
              "<style scoped>\n",
              "    .dataframe tbody tr th:only-of-type {\n",
              "        vertical-align: middle;\n",
              "    }\n",
              "\n",
              "    .dataframe tbody tr th {\n",
              "        vertical-align: top;\n",
              "    }\n",
              "\n",
              "    .dataframe thead th {\n",
              "        text-align: right;\n",
              "    }\n",
              "</style>\n",
              "<table border=\"1\" class=\"dataframe\">\n",
              "  <thead>\n",
              "    <tr style=\"text-align: right;\">\n",
              "      <th></th>\n",
              "      <th>team</th>\n",
              "      <th>home_wins</th>\n",
              "      <th>away_wins</th>\n",
              "      <th>home_matches</th>\n",
              "      <th>away_matches</th>\n",
              "      <th>home_win_percentage</th>\n",
              "      <th>away_win_percentage</th>\n",
              "    </tr>\n",
              "  </thead>\n",
              "  <tbody>\n",
              "    <tr>\n",
              "      <th>1</th>\n",
              "      <td>Mumbai Indians</td>\n",
              "      <td>58</td>\n",
              "      <td>51</td>\n",
              "      <td>101</td>\n",
              "      <td>86</td>\n",
              "      <td>57.425743</td>\n",
              "      <td>59.302326</td>\n",
              "    </tr>\n",
              "    <tr>\n",
              "      <th>2</th>\n",
              "      <td>Chennai Super Kings</td>\n",
              "      <td>51</td>\n",
              "      <td>49</td>\n",
              "      <td>89</td>\n",
              "      <td>75</td>\n",
              "      <td>57.303371</td>\n",
              "      <td>65.333333</td>\n",
              "    </tr>\n",
              "    <tr>\n",
              "      <th>4</th>\n",
              "      <td>Sunrisers Hyderabad</td>\n",
              "      <td>30</td>\n",
              "      <td>28</td>\n",
              "      <td>63</td>\n",
              "      <td>45</td>\n",
              "      <td>47.619048</td>\n",
              "      <td>62.222222</td>\n",
              "    </tr>\n",
              "    <tr>\n",
              "      <th>5</th>\n",
              "      <td>Rajasthan Royals</td>\n",
              "      <td>29</td>\n",
              "      <td>46</td>\n",
              "      <td>67</td>\n",
              "      <td>80</td>\n",
              "      <td>43.283582</td>\n",
              "      <td>57.500000</td>\n",
              "    </tr>\n",
              "    <tr>\n",
              "      <th>6</th>\n",
              "      <td>Deccan Chargers</td>\n",
              "      <td>18</td>\n",
              "      <td>11</td>\n",
              "      <td>43</td>\n",
              "      <td>32</td>\n",
              "      <td>41.860465</td>\n",
              "      <td>34.375000</td>\n",
              "    </tr>\n",
              "    <tr>\n",
              "      <th>7</th>\n",
              "      <td>Kings XI Punjab</td>\n",
              "      <td>38</td>\n",
              "      <td>44</td>\n",
              "      <td>91</td>\n",
              "      <td>85</td>\n",
              "      <td>41.758242</td>\n",
              "      <td>51.764706</td>\n",
              "    </tr>\n",
              "    <tr>\n",
              "      <th>8</th>\n",
              "      <td>Royal Challengers Bangalore</td>\n",
              "      <td>35</td>\n",
              "      <td>49</td>\n",
              "      <td>85</td>\n",
              "      <td>95</td>\n",
              "      <td>41.176471</td>\n",
              "      <td>51.578947</td>\n",
              "    </tr>\n",
              "    <tr>\n",
              "      <th>9</th>\n",
              "      <td>Kolkata Knight Riders</td>\n",
              "      <td>34</td>\n",
              "      <td>58</td>\n",
              "      <td>83</td>\n",
              "      <td>95</td>\n",
              "      <td>40.963855</td>\n",
              "      <td>61.052632</td>\n",
              "    </tr>\n",
              "    <tr>\n",
              "      <th>12</th>\n",
              "      <td>Kochi Tuskers Kerala</td>\n",
              "      <td>2</td>\n",
              "      <td>4</td>\n",
              "      <td>7</td>\n",
              "      <td>7</td>\n",
              "      <td>28.571429</td>\n",
              "      <td>57.142857</td>\n",
              "    </tr>\n",
              "    <tr>\n",
              "      <th>13</th>\n",
              "      <td>Gujarat Lions</td>\n",
              "      <td>1</td>\n",
              "      <td>12</td>\n",
              "      <td>14</td>\n",
              "      <td>16</td>\n",
              "      <td>7.142857</td>\n",
              "      <td>75.000000</td>\n",
              "    </tr>\n",
              "  </tbody>\n",
              "</table>\n",
              "</div>"
            ],
            "text/plain": [
              "                           team  ...  away_win_percentage\n",
              "1                Mumbai Indians  ...            59.302326\n",
              "2           Chennai Super Kings  ...            65.333333\n",
              "4           Sunrisers Hyderabad  ...            62.222222\n",
              "5              Rajasthan Royals  ...            57.500000\n",
              "6               Deccan Chargers  ...            34.375000\n",
              "7               Kings XI Punjab  ...            51.764706\n",
              "8   Royal Challengers Bangalore  ...            51.578947\n",
              "9         Kolkata Knight Riders  ...            61.052632\n",
              "12         Kochi Tuskers Kerala  ...            57.142857\n",
              "13                Gujarat Lions  ...            75.000000\n",
              "\n",
              "[10 rows x 7 columns]"
            ]
          },
          "metadata": {
            "tags": []
          },
          "execution_count": 18
        }
      ]
    },
    {
      "cell_type": "code",
      "metadata": {
        "colab": {
          "base_uri": "https://localhost:8080/",
          "height": 80
        },
        "id": "tCc1f_avmnW3",
        "outputId": "a2f8720f-8b78-4c51-efa8-da6a9a4b6c9b"
      },
      "source": [
        "delhi_teams_df.head(1)"
      ],
      "execution_count": 19,
      "outputs": [
        {
          "output_type": "execute_result",
          "data": {
            "text/html": [
              "<div>\n",
              "<style scoped>\n",
              "    .dataframe tbody tr th:only-of-type {\n",
              "        vertical-align: middle;\n",
              "    }\n",
              "\n",
              "    .dataframe tbody tr th {\n",
              "        vertical-align: top;\n",
              "    }\n",
              "\n",
              "    .dataframe thead th {\n",
              "        text-align: right;\n",
              "    }\n",
              "</style>\n",
              "<table border=\"1\" class=\"dataframe\">\n",
              "  <thead>\n",
              "    <tr style=\"text-align: right;\">\n",
              "      <th></th>\n",
              "      <th>team</th>\n",
              "      <th>home_wins</th>\n",
              "      <th>away_wins</th>\n",
              "      <th>home_matches</th>\n",
              "      <th>away_matches</th>\n",
              "      <th>home_win_percentage</th>\n",
              "      <th>away_win_percentage</th>\n",
              "    </tr>\n",
              "  </thead>\n",
              "  <tbody>\n",
              "    <tr>\n",
              "      <th>0</th>\n",
              "      <td>Delhi Capitals</td>\n",
              "      <td>28</td>\n",
              "      <td>49</td>\n",
              "      <td>78</td>\n",
              "      <td>99</td>\n",
              "      <td>35.897436</td>\n",
              "      <td>49.494949</td>\n",
              "    </tr>\n",
              "  </tbody>\n",
              "</table>\n",
              "</div>"
            ],
            "text/plain": [
              "             team  home_wins  ...  home_win_percentage  away_win_percentage\n",
              "0  Delhi Capitals         28  ...            35.897436            49.494949\n",
              "\n",
              "[1 rows x 7 columns]"
            ]
          },
          "metadata": {
            "tags": []
          },
          "execution_count": 19
        }
      ]
    },
    {
      "cell_type": "code",
      "metadata": {
        "colab": {
          "base_uri": "https://localhost:8080/",
          "height": 80
        },
        "id": "036npnBSmpLD",
        "outputId": "19e16fa0-7fab-43c0-af41-a786b0a40cf7"
      },
      "source": [
        "pune_teams_df.head(1)"
      ],
      "execution_count": 20,
      "outputs": [
        {
          "output_type": "execute_result",
          "data": {
            "text/html": [
              "<div>\n",
              "<style scoped>\n",
              "    .dataframe tbody tr th:only-of-type {\n",
              "        vertical-align: middle;\n",
              "    }\n",
              "\n",
              "    .dataframe tbody tr th {\n",
              "        vertical-align: top;\n",
              "    }\n",
              "\n",
              "    .dataframe thead th {\n",
              "        text-align: right;\n",
              "    }\n",
              "</style>\n",
              "<table border=\"1\" class=\"dataframe\">\n",
              "  <thead>\n",
              "    <tr style=\"text-align: right;\">\n",
              "      <th></th>\n",
              "      <th>team</th>\n",
              "      <th>home_wins</th>\n",
              "      <th>away_wins</th>\n",
              "      <th>home_matches</th>\n",
              "      <th>away_matches</th>\n",
              "      <th>home_win_percentage</th>\n",
              "      <th>away_win_percentage</th>\n",
              "    </tr>\n",
              "  </thead>\n",
              "  <tbody>\n",
              "    <tr>\n",
              "      <th>0</th>\n",
              "      <td>Rising Pune Supergiant</td>\n",
              "      <td>11</td>\n",
              "      <td>11</td>\n",
              "      <td>28</td>\n",
              "      <td>34</td>\n",
              "      <td>39.285714</td>\n",
              "      <td>32.352941</td>\n",
              "    </tr>\n",
              "  </tbody>\n",
              "</table>\n",
              "</div>"
            ],
            "text/plain": [
              "                     team  home_wins  ...  home_win_percentage  away_win_percentage\n",
              "0  Rising Pune Supergiant         11  ...            39.285714            32.352941\n",
              "\n",
              "[1 rows x 7 columns]"
            ]
          },
          "metadata": {
            "tags": []
          },
          "execution_count": 20
        }
      ]
    },
    {
      "cell_type": "code",
      "metadata": {
        "id": "ED1L4ld2mqgk"
      },
      "source": [
        "# Let's add updated rows\n",
        "team_df = team_df.append(delhi_teams_df.head(1), ignore_index = True)\n",
        "team_df = team_df.append(pune_teams_df.head(1), ignore_index = True)"
      ],
      "execution_count": 21,
      "outputs": []
    },
    {
      "cell_type": "code",
      "metadata": {
        "colab": {
          "base_uri": "https://localhost:8080/",
          "height": 418
        },
        "id": "uLvMf81cmryJ",
        "outputId": "e8cdcec3-7767-4cac-c5bf-bcd39817e392"
      },
      "source": [
        "team_df"
      ],
      "execution_count": 22,
      "outputs": [
        {
          "output_type": "execute_result",
          "data": {
            "text/html": [
              "<div>\n",
              "<style scoped>\n",
              "    .dataframe tbody tr th:only-of-type {\n",
              "        vertical-align: middle;\n",
              "    }\n",
              "\n",
              "    .dataframe tbody tr th {\n",
              "        vertical-align: top;\n",
              "    }\n",
              "\n",
              "    .dataframe thead th {\n",
              "        text-align: right;\n",
              "    }\n",
              "</style>\n",
              "<table border=\"1\" class=\"dataframe\">\n",
              "  <thead>\n",
              "    <tr style=\"text-align: right;\">\n",
              "      <th></th>\n",
              "      <th>team</th>\n",
              "      <th>home_wins</th>\n",
              "      <th>away_wins</th>\n",
              "      <th>home_matches</th>\n",
              "      <th>away_matches</th>\n",
              "      <th>home_win_percentage</th>\n",
              "      <th>away_win_percentage</th>\n",
              "    </tr>\n",
              "  </thead>\n",
              "  <tbody>\n",
              "    <tr>\n",
              "      <th>0</th>\n",
              "      <td>Mumbai Indians</td>\n",
              "      <td>58</td>\n",
              "      <td>51</td>\n",
              "      <td>101</td>\n",
              "      <td>86</td>\n",
              "      <td>57.425743</td>\n",
              "      <td>59.302326</td>\n",
              "    </tr>\n",
              "    <tr>\n",
              "      <th>1</th>\n",
              "      <td>Chennai Super Kings</td>\n",
              "      <td>51</td>\n",
              "      <td>49</td>\n",
              "      <td>89</td>\n",
              "      <td>75</td>\n",
              "      <td>57.303371</td>\n",
              "      <td>65.333333</td>\n",
              "    </tr>\n",
              "    <tr>\n",
              "      <th>2</th>\n",
              "      <td>Sunrisers Hyderabad</td>\n",
              "      <td>30</td>\n",
              "      <td>28</td>\n",
              "      <td>63</td>\n",
              "      <td>45</td>\n",
              "      <td>47.619048</td>\n",
              "      <td>62.222222</td>\n",
              "    </tr>\n",
              "    <tr>\n",
              "      <th>3</th>\n",
              "      <td>Rajasthan Royals</td>\n",
              "      <td>29</td>\n",
              "      <td>46</td>\n",
              "      <td>67</td>\n",
              "      <td>80</td>\n",
              "      <td>43.283582</td>\n",
              "      <td>57.500000</td>\n",
              "    </tr>\n",
              "    <tr>\n",
              "      <th>4</th>\n",
              "      <td>Deccan Chargers</td>\n",
              "      <td>18</td>\n",
              "      <td>11</td>\n",
              "      <td>43</td>\n",
              "      <td>32</td>\n",
              "      <td>41.860465</td>\n",
              "      <td>34.375000</td>\n",
              "    </tr>\n",
              "    <tr>\n",
              "      <th>5</th>\n",
              "      <td>Kings XI Punjab</td>\n",
              "      <td>38</td>\n",
              "      <td>44</td>\n",
              "      <td>91</td>\n",
              "      <td>85</td>\n",
              "      <td>41.758242</td>\n",
              "      <td>51.764706</td>\n",
              "    </tr>\n",
              "    <tr>\n",
              "      <th>6</th>\n",
              "      <td>Royal Challengers Bangalore</td>\n",
              "      <td>35</td>\n",
              "      <td>49</td>\n",
              "      <td>85</td>\n",
              "      <td>95</td>\n",
              "      <td>41.176471</td>\n",
              "      <td>51.578947</td>\n",
              "    </tr>\n",
              "    <tr>\n",
              "      <th>7</th>\n",
              "      <td>Kolkata Knight Riders</td>\n",
              "      <td>34</td>\n",
              "      <td>58</td>\n",
              "      <td>83</td>\n",
              "      <td>95</td>\n",
              "      <td>40.963855</td>\n",
              "      <td>61.052632</td>\n",
              "    </tr>\n",
              "    <tr>\n",
              "      <th>8</th>\n",
              "      <td>Kochi Tuskers Kerala</td>\n",
              "      <td>2</td>\n",
              "      <td>4</td>\n",
              "      <td>7</td>\n",
              "      <td>7</td>\n",
              "      <td>28.571429</td>\n",
              "      <td>57.142857</td>\n",
              "    </tr>\n",
              "    <tr>\n",
              "      <th>9</th>\n",
              "      <td>Gujarat Lions</td>\n",
              "      <td>1</td>\n",
              "      <td>12</td>\n",
              "      <td>14</td>\n",
              "      <td>16</td>\n",
              "      <td>7.142857</td>\n",
              "      <td>75.000000</td>\n",
              "    </tr>\n",
              "    <tr>\n",
              "      <th>10</th>\n",
              "      <td>Delhi Capitals</td>\n",
              "      <td>28</td>\n",
              "      <td>49</td>\n",
              "      <td>78</td>\n",
              "      <td>99</td>\n",
              "      <td>35.897436</td>\n",
              "      <td>49.494949</td>\n",
              "    </tr>\n",
              "    <tr>\n",
              "      <th>11</th>\n",
              "      <td>Rising Pune Supergiant</td>\n",
              "      <td>11</td>\n",
              "      <td>11</td>\n",
              "      <td>28</td>\n",
              "      <td>34</td>\n",
              "      <td>39.285714</td>\n",
              "      <td>32.352941</td>\n",
              "    </tr>\n",
              "  </tbody>\n",
              "</table>\n",
              "</div>"
            ],
            "text/plain": [
              "                           team  ...  away_win_percentage\n",
              "0                Mumbai Indians  ...            59.302326\n",
              "1           Chennai Super Kings  ...            65.333333\n",
              "2           Sunrisers Hyderabad  ...            62.222222\n",
              "3              Rajasthan Royals  ...            57.500000\n",
              "4               Deccan Chargers  ...            34.375000\n",
              "5               Kings XI Punjab  ...            51.764706\n",
              "6   Royal Challengers Bangalore  ...            51.578947\n",
              "7         Kolkata Knight Riders  ...            61.052632\n",
              "8          Kochi Tuskers Kerala  ...            57.142857\n",
              "9                 Gujarat Lions  ...            75.000000\n",
              "10               Delhi Capitals  ...            49.494949\n",
              "11       Rising Pune Supergiant  ...            32.352941\n",
              "\n",
              "[12 rows x 7 columns]"
            ]
          },
          "metadata": {
            "tags": []
          },
          "execution_count": 22
        }
      ]
    },
    {
      "cell_type": "code",
      "metadata": {
        "id": "6AzgW0dTms5n"
      },
      "source": [
        ""
      ],
      "execution_count": null,
      "outputs": []
    },
    {
      "cell_type": "markdown",
      "metadata": {
        "id": "lTJFLCnP52VQ"
      },
      "source": [
        "# **Step 3: Exploratory Data Analysis**\n",
        "\n",
        "### **In this step we will be analysing the data**"
      ]
    },
    {
      "cell_type": "code",
      "metadata": {
        "id": "9fJZ3OTJmuk4"
      },
      "source": [
        ""
      ],
      "execution_count": null,
      "outputs": []
    },
    {
      "cell_type": "markdown",
      "metadata": {
        "id": "chY8T3Ef5-JP"
      },
      "source": [
        "# **Objective - Home and Away Matches Dataset**\n",
        "**1. Team camparison Home wins vs Away wins**\n",
        "\n",
        "**2. Team camparison Home wins vs Away wins in percentage**\n",
        "\n",
        "**3. Final Conclusion of Home Wins and Aways Wins DataFrame**"
      ]
    },
    {
      "cell_type": "code",
      "metadata": {
        "id": "qOpq5mxSmxgO"
      },
      "source": [
        ""
      ],
      "execution_count": null,
      "outputs": []
    },
    {
      "cell_type": "markdown",
      "metadata": {
        "id": "K5ADfxDxQj0Y"
      },
      "source": [
        "## **Task-1 Team comparison home wins and away wins**\n",
        "\n",
        "### **In this task we will be getting the team with most home wins and away wins**"
      ]
    },
    {
      "cell_type": "code",
      "metadata": {
        "id": "lk3sUlJKm1A8"
      },
      "source": [
        "# Let's sort the data according to home wins\n",
        "team_df.sort_values(by = 'home_wins', ascending = False, inplace = True)"
      ],
      "execution_count": 23,
      "outputs": []
    },
    {
      "cell_type": "code",
      "metadata": {
        "colab": {
          "base_uri": "https://localhost:8080/",
          "height": 418
        },
        "id": "aAtpJhiom2UV",
        "outputId": "3cae5299-0129-493f-d407-fe23073dd330"
      },
      "source": [
        "# Print the team df\n",
        "team_df"
      ],
      "execution_count": 24,
      "outputs": [
        {
          "output_type": "execute_result",
          "data": {
            "text/html": [
              "<div>\n",
              "<style scoped>\n",
              "    .dataframe tbody tr th:only-of-type {\n",
              "        vertical-align: middle;\n",
              "    }\n",
              "\n",
              "    .dataframe tbody tr th {\n",
              "        vertical-align: top;\n",
              "    }\n",
              "\n",
              "    .dataframe thead th {\n",
              "        text-align: right;\n",
              "    }\n",
              "</style>\n",
              "<table border=\"1\" class=\"dataframe\">\n",
              "  <thead>\n",
              "    <tr style=\"text-align: right;\">\n",
              "      <th></th>\n",
              "      <th>team</th>\n",
              "      <th>home_wins</th>\n",
              "      <th>away_wins</th>\n",
              "      <th>home_matches</th>\n",
              "      <th>away_matches</th>\n",
              "      <th>home_win_percentage</th>\n",
              "      <th>away_win_percentage</th>\n",
              "    </tr>\n",
              "  </thead>\n",
              "  <tbody>\n",
              "    <tr>\n",
              "      <th>0</th>\n",
              "      <td>Mumbai Indians</td>\n",
              "      <td>58</td>\n",
              "      <td>51</td>\n",
              "      <td>101</td>\n",
              "      <td>86</td>\n",
              "      <td>57.425743</td>\n",
              "      <td>59.302326</td>\n",
              "    </tr>\n",
              "    <tr>\n",
              "      <th>1</th>\n",
              "      <td>Chennai Super Kings</td>\n",
              "      <td>51</td>\n",
              "      <td>49</td>\n",
              "      <td>89</td>\n",
              "      <td>75</td>\n",
              "      <td>57.303371</td>\n",
              "      <td>65.333333</td>\n",
              "    </tr>\n",
              "    <tr>\n",
              "      <th>5</th>\n",
              "      <td>Kings XI Punjab</td>\n",
              "      <td>38</td>\n",
              "      <td>44</td>\n",
              "      <td>91</td>\n",
              "      <td>85</td>\n",
              "      <td>41.758242</td>\n",
              "      <td>51.764706</td>\n",
              "    </tr>\n",
              "    <tr>\n",
              "      <th>6</th>\n",
              "      <td>Royal Challengers Bangalore</td>\n",
              "      <td>35</td>\n",
              "      <td>49</td>\n",
              "      <td>85</td>\n",
              "      <td>95</td>\n",
              "      <td>41.176471</td>\n",
              "      <td>51.578947</td>\n",
              "    </tr>\n",
              "    <tr>\n",
              "      <th>7</th>\n",
              "      <td>Kolkata Knight Riders</td>\n",
              "      <td>34</td>\n",
              "      <td>58</td>\n",
              "      <td>83</td>\n",
              "      <td>95</td>\n",
              "      <td>40.963855</td>\n",
              "      <td>61.052632</td>\n",
              "    </tr>\n",
              "    <tr>\n",
              "      <th>2</th>\n",
              "      <td>Sunrisers Hyderabad</td>\n",
              "      <td>30</td>\n",
              "      <td>28</td>\n",
              "      <td>63</td>\n",
              "      <td>45</td>\n",
              "      <td>47.619048</td>\n",
              "      <td>62.222222</td>\n",
              "    </tr>\n",
              "    <tr>\n",
              "      <th>3</th>\n",
              "      <td>Rajasthan Royals</td>\n",
              "      <td>29</td>\n",
              "      <td>46</td>\n",
              "      <td>67</td>\n",
              "      <td>80</td>\n",
              "      <td>43.283582</td>\n",
              "      <td>57.500000</td>\n",
              "    </tr>\n",
              "    <tr>\n",
              "      <th>10</th>\n",
              "      <td>Delhi Capitals</td>\n",
              "      <td>28</td>\n",
              "      <td>49</td>\n",
              "      <td>78</td>\n",
              "      <td>99</td>\n",
              "      <td>35.897436</td>\n",
              "      <td>49.494949</td>\n",
              "    </tr>\n",
              "    <tr>\n",
              "      <th>4</th>\n",
              "      <td>Deccan Chargers</td>\n",
              "      <td>18</td>\n",
              "      <td>11</td>\n",
              "      <td>43</td>\n",
              "      <td>32</td>\n",
              "      <td>41.860465</td>\n",
              "      <td>34.375000</td>\n",
              "    </tr>\n",
              "    <tr>\n",
              "      <th>11</th>\n",
              "      <td>Rising Pune Supergiant</td>\n",
              "      <td>11</td>\n",
              "      <td>11</td>\n",
              "      <td>28</td>\n",
              "      <td>34</td>\n",
              "      <td>39.285714</td>\n",
              "      <td>32.352941</td>\n",
              "    </tr>\n",
              "    <tr>\n",
              "      <th>8</th>\n",
              "      <td>Kochi Tuskers Kerala</td>\n",
              "      <td>2</td>\n",
              "      <td>4</td>\n",
              "      <td>7</td>\n",
              "      <td>7</td>\n",
              "      <td>28.571429</td>\n",
              "      <td>57.142857</td>\n",
              "    </tr>\n",
              "    <tr>\n",
              "      <th>9</th>\n",
              "      <td>Gujarat Lions</td>\n",
              "      <td>1</td>\n",
              "      <td>12</td>\n",
              "      <td>14</td>\n",
              "      <td>16</td>\n",
              "      <td>7.142857</td>\n",
              "      <td>75.000000</td>\n",
              "    </tr>\n",
              "  </tbody>\n",
              "</table>\n",
              "</div>"
            ],
            "text/plain": [
              "                           team  ...  away_win_percentage\n",
              "0                Mumbai Indians  ...            59.302326\n",
              "1           Chennai Super Kings  ...            65.333333\n",
              "5               Kings XI Punjab  ...            51.764706\n",
              "6   Royal Challengers Bangalore  ...            51.578947\n",
              "7         Kolkata Knight Riders  ...            61.052632\n",
              "2           Sunrisers Hyderabad  ...            62.222222\n",
              "3              Rajasthan Royals  ...            57.500000\n",
              "10               Delhi Capitals  ...            49.494949\n",
              "4               Deccan Chargers  ...            34.375000\n",
              "11       Rising Pune Supergiant  ...            32.352941\n",
              "8          Kochi Tuskers Kerala  ...            57.142857\n",
              "9                 Gujarat Lions  ...            75.000000\n",
              "\n",
              "[12 rows x 7 columns]"
            ]
          },
          "metadata": {
            "tags": []
          },
          "execution_count": 24
        }
      ]
    },
    {
      "cell_type": "code",
      "metadata": {
        "id": "YcMBsUfIm3fw"
      },
      "source": [
        "# Let's plot the graph to get better idea\n",
        "import plotly.graph_objs as go\n",
        "\n",
        "home_wins = go.Bar(x = team_df['team'], y = team_df['home_wins'], name = 'Home Wins', marker = dict(color = '#00D9C0'))\n",
        "away_wins = go.Bar(x = team_df['team'], y = team_df['away_wins'], name = 'Away Wins', marker = dict(color = '#FFC43D'))\n",
        "\n",
        "data = [home_wins, away_wins]"
      ],
      "execution_count": 26,
      "outputs": []
    },
    {
      "cell_type": "code",
      "metadata": {
        "colab": {
          "base_uri": "https://localhost:8080/",
          "height": 542
        },
        "id": "QJKDb7nPm6rs",
        "outputId": "f0c71125-1d18-4cc7-d215-58c5a653cb0b"
      },
      "source": [
        "from plotly.offline import iplot\n",
        "\n",
        "layout = go.Layout(title = 'Team Home Wins and Away Wins', xaxis = dict(title = 'team'), yaxis = dict(title = 'Total'), bargap = 0.2, bargroupgap = 0.1)\n",
        "\n",
        "figure = go.Figure(data = data, layout = layout)\n",
        "iplot(figure)"
      ],
      "execution_count": 27,
      "outputs": [
        {
          "output_type": "display_data",
          "data": {
            "text/html": [
              "<html>\n",
              "<head><meta charset=\"utf-8\" /></head>\n",
              "<body>\n",
              "    <div>\n",
              "            <script src=\"https://cdnjs.cloudflare.com/ajax/libs/mathjax/2.7.5/MathJax.js?config=TeX-AMS-MML_SVG\"></script><script type=\"text/javascript\">if (window.MathJax) {MathJax.Hub.Config({SVG: {font: \"STIX-Web\"}});}</script>\n",
              "                <script type=\"text/javascript\">window.PlotlyConfig = {MathJaxConfig: 'local'};</script>\n",
              "        <script src=\"https://cdn.plot.ly/plotly-latest.min.js\"></script>    \n",
              "            <div id=\"94ee3d2b-09f5-45b3-ae40-efabe2badb30\" class=\"plotly-graph-div\" style=\"height:525px; width:100%;\"></div>\n",
              "            <script type=\"text/javascript\">\n",
              "                \n",
              "                    window.PLOTLYENV=window.PLOTLYENV || {};\n",
              "                    \n",
              "                if (document.getElementById(\"94ee3d2b-09f5-45b3-ae40-efabe2badb30\")) {\n",
              "                    Plotly.newPlot(\n",
              "                        '94ee3d2b-09f5-45b3-ae40-efabe2badb30',\n",
              "                        [{\"marker\": {\"color\": \"#00D9C0\"}, \"name\": \"Home Wins\", \"type\": \"bar\", \"x\": [\"Mumbai Indians\", \"Chennai Super Kings\", \"Kings XI Punjab\", \"Royal Challengers Bangalore\", \"Kolkata Knight Riders\", \"Sunrisers Hyderabad\", \"Rajasthan Royals\", \"Delhi Capitals\", \"Deccan Chargers\", \"Rising Pune Supergiant\", \"Kochi Tuskers Kerala\", \"Gujarat Lions\"], \"y\": [58, 51, 38, 35, 34, 30, 29, 28, 18, 11, 2, 1]}, {\"marker\": {\"color\": \"#FFC43D\"}, \"name\": \"Away Wins\", \"type\": \"bar\", \"x\": [\"Mumbai Indians\", \"Chennai Super Kings\", \"Kings XI Punjab\", \"Royal Challengers Bangalore\", \"Kolkata Knight Riders\", \"Sunrisers Hyderabad\", \"Rajasthan Royals\", \"Delhi Capitals\", \"Deccan Chargers\", \"Rising Pune Supergiant\", \"Kochi Tuskers Kerala\", \"Gujarat Lions\"], \"y\": [51, 49, 44, 49, 58, 28, 46, 49, 11, 11, 4, 12]}],\n",
              "                        {\"bargap\": 0.2, \"bargroupgap\": 0.1, \"template\": {\"data\": {\"bar\": [{\"error_x\": {\"color\": \"#2a3f5f\"}, \"error_y\": {\"color\": \"#2a3f5f\"}, \"marker\": {\"line\": {\"color\": \"#E5ECF6\", \"width\": 0.5}}, \"type\": \"bar\"}], \"barpolar\": [{\"marker\": {\"line\": {\"color\": \"#E5ECF6\", \"width\": 0.5}}, \"type\": \"barpolar\"}], \"carpet\": [{\"aaxis\": {\"endlinecolor\": \"#2a3f5f\", \"gridcolor\": \"white\", \"linecolor\": \"white\", \"minorgridcolor\": \"white\", \"startlinecolor\": \"#2a3f5f\"}, \"baxis\": {\"endlinecolor\": \"#2a3f5f\", \"gridcolor\": \"white\", \"linecolor\": \"white\", \"minorgridcolor\": \"white\", \"startlinecolor\": \"#2a3f5f\"}, \"type\": \"carpet\"}], \"choropleth\": [{\"colorbar\": {\"outlinewidth\": 0, \"ticks\": \"\"}, \"type\": \"choropleth\"}], \"contour\": [{\"colorbar\": {\"outlinewidth\": 0, \"ticks\": \"\"}, \"colorscale\": [[0.0, \"#0d0887\"], [0.1111111111111111, \"#46039f\"], [0.2222222222222222, \"#7201a8\"], [0.3333333333333333, \"#9c179e\"], [0.4444444444444444, \"#bd3786\"], [0.5555555555555556, \"#d8576b\"], [0.6666666666666666, \"#ed7953\"], [0.7777777777777778, \"#fb9f3a\"], [0.8888888888888888, \"#fdca26\"], [1.0, \"#f0f921\"]], \"type\": \"contour\"}], \"contourcarpet\": [{\"colorbar\": {\"outlinewidth\": 0, \"ticks\": \"\"}, \"type\": \"contourcarpet\"}], \"heatmap\": [{\"colorbar\": {\"outlinewidth\": 0, \"ticks\": \"\"}, \"colorscale\": [[0.0, \"#0d0887\"], [0.1111111111111111, \"#46039f\"], [0.2222222222222222, \"#7201a8\"], [0.3333333333333333, \"#9c179e\"], [0.4444444444444444, \"#bd3786\"], [0.5555555555555556, \"#d8576b\"], [0.6666666666666666, \"#ed7953\"], [0.7777777777777778, \"#fb9f3a\"], [0.8888888888888888, \"#fdca26\"], [1.0, \"#f0f921\"]], \"type\": \"heatmap\"}], \"heatmapgl\": [{\"colorbar\": {\"outlinewidth\": 0, \"ticks\": \"\"}, \"colorscale\": [[0.0, \"#0d0887\"], [0.1111111111111111, \"#46039f\"], [0.2222222222222222, \"#7201a8\"], [0.3333333333333333, \"#9c179e\"], [0.4444444444444444, \"#bd3786\"], [0.5555555555555556, \"#d8576b\"], [0.6666666666666666, \"#ed7953\"], [0.7777777777777778, \"#fb9f3a\"], [0.8888888888888888, \"#fdca26\"], [1.0, \"#f0f921\"]], \"type\": \"heatmapgl\"}], \"histogram\": [{\"marker\": {\"colorbar\": {\"outlinewidth\": 0, \"ticks\": \"\"}}, \"type\": \"histogram\"}], \"histogram2d\": [{\"colorbar\": {\"outlinewidth\": 0, \"ticks\": \"\"}, \"colorscale\": [[0.0, \"#0d0887\"], [0.1111111111111111, \"#46039f\"], [0.2222222222222222, \"#7201a8\"], [0.3333333333333333, \"#9c179e\"], [0.4444444444444444, \"#bd3786\"], [0.5555555555555556, \"#d8576b\"], [0.6666666666666666, \"#ed7953\"], [0.7777777777777778, \"#fb9f3a\"], [0.8888888888888888, \"#fdca26\"], [1.0, \"#f0f921\"]], \"type\": \"histogram2d\"}], \"histogram2dcontour\": [{\"colorbar\": {\"outlinewidth\": 0, \"ticks\": \"\"}, \"colorscale\": [[0.0, \"#0d0887\"], [0.1111111111111111, \"#46039f\"], [0.2222222222222222, \"#7201a8\"], [0.3333333333333333, \"#9c179e\"], [0.4444444444444444, \"#bd3786\"], [0.5555555555555556, \"#d8576b\"], [0.6666666666666666, \"#ed7953\"], [0.7777777777777778, \"#fb9f3a\"], [0.8888888888888888, \"#fdca26\"], [1.0, \"#f0f921\"]], \"type\": \"histogram2dcontour\"}], \"mesh3d\": [{\"colorbar\": {\"outlinewidth\": 0, \"ticks\": \"\"}, \"type\": \"mesh3d\"}], \"parcoords\": [{\"line\": {\"colorbar\": {\"outlinewidth\": 0, \"ticks\": \"\"}}, \"type\": \"parcoords\"}], \"pie\": [{\"automargin\": true, \"type\": \"pie\"}], \"scatter\": [{\"marker\": {\"colorbar\": {\"outlinewidth\": 0, \"ticks\": \"\"}}, \"type\": \"scatter\"}], \"scatter3d\": [{\"line\": {\"colorbar\": {\"outlinewidth\": 0, \"ticks\": \"\"}}, \"marker\": {\"colorbar\": {\"outlinewidth\": 0, \"ticks\": \"\"}}, \"type\": \"scatter3d\"}], \"scattercarpet\": [{\"marker\": {\"colorbar\": {\"outlinewidth\": 0, \"ticks\": \"\"}}, \"type\": \"scattercarpet\"}], \"scattergeo\": [{\"marker\": {\"colorbar\": {\"outlinewidth\": 0, \"ticks\": \"\"}}, \"type\": \"scattergeo\"}], \"scattergl\": [{\"marker\": {\"colorbar\": {\"outlinewidth\": 0, \"ticks\": \"\"}}, \"type\": \"scattergl\"}], \"scattermapbox\": [{\"marker\": {\"colorbar\": {\"outlinewidth\": 0, \"ticks\": \"\"}}, \"type\": \"scattermapbox\"}], \"scatterpolar\": [{\"marker\": {\"colorbar\": {\"outlinewidth\": 0, \"ticks\": \"\"}}, \"type\": \"scatterpolar\"}], \"scatterpolargl\": [{\"marker\": {\"colorbar\": {\"outlinewidth\": 0, \"ticks\": \"\"}}, \"type\": \"scatterpolargl\"}], \"scatterternary\": [{\"marker\": {\"colorbar\": {\"outlinewidth\": 0, \"ticks\": \"\"}}, \"type\": \"scatterternary\"}], \"surface\": [{\"colorbar\": {\"outlinewidth\": 0, \"ticks\": \"\"}, \"colorscale\": [[0.0, \"#0d0887\"], [0.1111111111111111, \"#46039f\"], [0.2222222222222222, \"#7201a8\"], [0.3333333333333333, \"#9c179e\"], [0.4444444444444444, \"#bd3786\"], [0.5555555555555556, \"#d8576b\"], [0.6666666666666666, \"#ed7953\"], [0.7777777777777778, \"#fb9f3a\"], [0.8888888888888888, \"#fdca26\"], [1.0, \"#f0f921\"]], \"type\": \"surface\"}], \"table\": [{\"cells\": {\"fill\": {\"color\": \"#EBF0F8\"}, \"line\": {\"color\": \"white\"}}, \"header\": {\"fill\": {\"color\": \"#C8D4E3\"}, \"line\": {\"color\": \"white\"}}, \"type\": \"table\"}]}, \"layout\": {\"annotationdefaults\": {\"arrowcolor\": \"#2a3f5f\", \"arrowhead\": 0, \"arrowwidth\": 1}, \"coloraxis\": {\"colorbar\": {\"outlinewidth\": 0, \"ticks\": \"\"}}, \"colorscale\": {\"diverging\": [[0, \"#8e0152\"], [0.1, \"#c51b7d\"], [0.2, \"#de77ae\"], [0.3, \"#f1b6da\"], [0.4, \"#fde0ef\"], [0.5, \"#f7f7f7\"], [0.6, \"#e6f5d0\"], [0.7, \"#b8e186\"], [0.8, \"#7fbc41\"], [0.9, \"#4d9221\"], [1, \"#276419\"]], \"sequential\": [[0.0, \"#0d0887\"], [0.1111111111111111, \"#46039f\"], [0.2222222222222222, \"#7201a8\"], [0.3333333333333333, \"#9c179e\"], [0.4444444444444444, \"#bd3786\"], [0.5555555555555556, \"#d8576b\"], [0.6666666666666666, \"#ed7953\"], [0.7777777777777778, \"#fb9f3a\"], [0.8888888888888888, \"#fdca26\"], [1.0, \"#f0f921\"]], \"sequentialminus\": [[0.0, \"#0d0887\"], [0.1111111111111111, \"#46039f\"], [0.2222222222222222, \"#7201a8\"], [0.3333333333333333, \"#9c179e\"], [0.4444444444444444, \"#bd3786\"], [0.5555555555555556, \"#d8576b\"], [0.6666666666666666, \"#ed7953\"], [0.7777777777777778, \"#fb9f3a\"], [0.8888888888888888, \"#fdca26\"], [1.0, \"#f0f921\"]]}, \"colorway\": [\"#636efa\", \"#EF553B\", \"#00cc96\", \"#ab63fa\", \"#FFA15A\", \"#19d3f3\", \"#FF6692\", \"#B6E880\", \"#FF97FF\", \"#FECB52\"], \"font\": {\"color\": \"#2a3f5f\"}, \"geo\": {\"bgcolor\": \"white\", \"lakecolor\": \"white\", \"landcolor\": \"#E5ECF6\", \"showlakes\": true, \"showland\": true, \"subunitcolor\": \"white\"}, \"hoverlabel\": {\"align\": \"left\"}, \"hovermode\": \"closest\", \"mapbox\": {\"style\": \"light\"}, \"paper_bgcolor\": \"white\", \"plot_bgcolor\": \"#E5ECF6\", \"polar\": {\"angularaxis\": {\"gridcolor\": \"white\", \"linecolor\": \"white\", \"ticks\": \"\"}, \"bgcolor\": \"#E5ECF6\", \"radialaxis\": {\"gridcolor\": \"white\", \"linecolor\": \"white\", \"ticks\": \"\"}}, \"scene\": {\"xaxis\": {\"backgroundcolor\": \"#E5ECF6\", \"gridcolor\": \"white\", \"gridwidth\": 2, \"linecolor\": \"white\", \"showbackground\": true, \"ticks\": \"\", \"zerolinecolor\": \"white\"}, \"yaxis\": {\"backgroundcolor\": \"#E5ECF6\", \"gridcolor\": \"white\", \"gridwidth\": 2, \"linecolor\": \"white\", \"showbackground\": true, \"ticks\": \"\", \"zerolinecolor\": \"white\"}, \"zaxis\": {\"backgroundcolor\": \"#E5ECF6\", \"gridcolor\": \"white\", \"gridwidth\": 2, \"linecolor\": \"white\", \"showbackground\": true, \"ticks\": \"\", \"zerolinecolor\": \"white\"}}, \"shapedefaults\": {\"line\": {\"color\": \"#2a3f5f\"}}, \"ternary\": {\"aaxis\": {\"gridcolor\": \"white\", \"linecolor\": \"white\", \"ticks\": \"\"}, \"baxis\": {\"gridcolor\": \"white\", \"linecolor\": \"white\", \"ticks\": \"\"}, \"bgcolor\": \"#E5ECF6\", \"caxis\": {\"gridcolor\": \"white\", \"linecolor\": \"white\", \"ticks\": \"\"}}, \"title\": {\"x\": 0.05}, \"xaxis\": {\"automargin\": true, \"gridcolor\": \"white\", \"linecolor\": \"white\", \"ticks\": \"\", \"title\": {\"standoff\": 15}, \"zerolinecolor\": \"white\", \"zerolinewidth\": 2}, \"yaxis\": {\"automargin\": true, \"gridcolor\": \"white\", \"linecolor\": \"white\", \"ticks\": \"\", \"title\": {\"standoff\": 15}, \"zerolinecolor\": \"white\", \"zerolinewidth\": 2}}}, \"title\": {\"text\": \"Team Home Wins and Away Wins\"}, \"xaxis\": {\"title\": {\"text\": \"team\"}}, \"yaxis\": {\"title\": {\"text\": \"Total\"}}},\n",
              "                        {\"responsive\": true}\n",
              "                    ).then(function(){\n",
              "                            \n",
              "var gd = document.getElementById('94ee3d2b-09f5-45b3-ae40-efabe2badb30');\n",
              "var x = new MutationObserver(function (mutations, observer) {{\n",
              "        var display = window.getComputedStyle(gd).display;\n",
              "        if (!display || display === 'none') {{\n",
              "            console.log([gd, 'removed!']);\n",
              "            Plotly.purge(gd);\n",
              "            observer.disconnect();\n",
              "        }}\n",
              "}});\n",
              "\n",
              "// Listen for the removal of the full notebook cells\n",
              "var notebookContainer = gd.closest('#notebook-container');\n",
              "if (notebookContainer) {{\n",
              "    x.observe(notebookContainer, {childList: true});\n",
              "}}\n",
              "\n",
              "// Listen for the clearing of the current output cell\n",
              "var outputEl = gd.closest('.output');\n",
              "if (outputEl) {{\n",
              "    x.observe(outputEl, {childList: true});\n",
              "}}\n",
              "\n",
              "                        })\n",
              "                };\n",
              "                \n",
              "            </script>\n",
              "        </div>\n",
              "</body>\n",
              "</html>"
            ]
          },
          "metadata": {
            "tags": []
          }
        }
      ]
    },
    {
      "cell_type": "markdown",
      "metadata": {
        "id": "95gpZfmr-owG"
      },
      "source": [
        "## **Conclusion**\n",
        "\n",
        "**Mumbai Indians have won most number of matches at home - 58 matches, followed by the Chennai Super Kings - 51 matches**\n",
        "\n",
        "**Kolkata Night Riders have won most number of matches away from home - 58 matches, followed by the Mumbai Indians - 51 matches**"
      ]
    },
    {
      "cell_type": "code",
      "metadata": {
        "id": "CrdaD77-m_Qe"
      },
      "source": [
        ""
      ],
      "execution_count": null,
      "outputs": []
    },
    {
      "cell_type": "code",
      "metadata": {
        "id": "RHegFsbVnUTp"
      },
      "source": [
        ""
      ],
      "execution_count": null,
      "outputs": []
    },
    {
      "cell_type": "markdown",
      "metadata": {
        "id": "meqpovDnjKHp"
      },
      "source": [
        "## **Task-2 Team comparison home wins percentage and away wins percentage**\n",
        "\n",
        "### **In this task we will be getting the team with most home wins and away wins percentage**"
      ]
    },
    {
      "cell_type": "code",
      "metadata": {
        "id": "9ZsFPEZLnUnK"
      },
      "source": [
        "# Let's sort the data according to home wins\n",
        "team_df.sort_values(by = 'home_win_percentage', ascending = False, inplace = True)"
      ],
      "execution_count": 28,
      "outputs": []
    },
    {
      "cell_type": "code",
      "metadata": {
        "colab": {
          "base_uri": "https://localhost:8080/",
          "height": 418
        },
        "id": "efPwYajInV40",
        "outputId": "22386712-f0ba-4203-d9b3-8030aaaebe19"
      },
      "source": [
        "# Print df\n",
        "team_df"
      ],
      "execution_count": 29,
      "outputs": [
        {
          "output_type": "execute_result",
          "data": {
            "text/html": [
              "<div>\n",
              "<style scoped>\n",
              "    .dataframe tbody tr th:only-of-type {\n",
              "        vertical-align: middle;\n",
              "    }\n",
              "\n",
              "    .dataframe tbody tr th {\n",
              "        vertical-align: top;\n",
              "    }\n",
              "\n",
              "    .dataframe thead th {\n",
              "        text-align: right;\n",
              "    }\n",
              "</style>\n",
              "<table border=\"1\" class=\"dataframe\">\n",
              "  <thead>\n",
              "    <tr style=\"text-align: right;\">\n",
              "      <th></th>\n",
              "      <th>team</th>\n",
              "      <th>home_wins</th>\n",
              "      <th>away_wins</th>\n",
              "      <th>home_matches</th>\n",
              "      <th>away_matches</th>\n",
              "      <th>home_win_percentage</th>\n",
              "      <th>away_win_percentage</th>\n",
              "    </tr>\n",
              "  </thead>\n",
              "  <tbody>\n",
              "    <tr>\n",
              "      <th>0</th>\n",
              "      <td>Mumbai Indians</td>\n",
              "      <td>58</td>\n",
              "      <td>51</td>\n",
              "      <td>101</td>\n",
              "      <td>86</td>\n",
              "      <td>57.425743</td>\n",
              "      <td>59.302326</td>\n",
              "    </tr>\n",
              "    <tr>\n",
              "      <th>1</th>\n",
              "      <td>Chennai Super Kings</td>\n",
              "      <td>51</td>\n",
              "      <td>49</td>\n",
              "      <td>89</td>\n",
              "      <td>75</td>\n",
              "      <td>57.303371</td>\n",
              "      <td>65.333333</td>\n",
              "    </tr>\n",
              "    <tr>\n",
              "      <th>2</th>\n",
              "      <td>Sunrisers Hyderabad</td>\n",
              "      <td>30</td>\n",
              "      <td>28</td>\n",
              "      <td>63</td>\n",
              "      <td>45</td>\n",
              "      <td>47.619048</td>\n",
              "      <td>62.222222</td>\n",
              "    </tr>\n",
              "    <tr>\n",
              "      <th>3</th>\n",
              "      <td>Rajasthan Royals</td>\n",
              "      <td>29</td>\n",
              "      <td>46</td>\n",
              "      <td>67</td>\n",
              "      <td>80</td>\n",
              "      <td>43.283582</td>\n",
              "      <td>57.500000</td>\n",
              "    </tr>\n",
              "    <tr>\n",
              "      <th>4</th>\n",
              "      <td>Deccan Chargers</td>\n",
              "      <td>18</td>\n",
              "      <td>11</td>\n",
              "      <td>43</td>\n",
              "      <td>32</td>\n",
              "      <td>41.860465</td>\n",
              "      <td>34.375000</td>\n",
              "    </tr>\n",
              "    <tr>\n",
              "      <th>5</th>\n",
              "      <td>Kings XI Punjab</td>\n",
              "      <td>38</td>\n",
              "      <td>44</td>\n",
              "      <td>91</td>\n",
              "      <td>85</td>\n",
              "      <td>41.758242</td>\n",
              "      <td>51.764706</td>\n",
              "    </tr>\n",
              "    <tr>\n",
              "      <th>6</th>\n",
              "      <td>Royal Challengers Bangalore</td>\n",
              "      <td>35</td>\n",
              "      <td>49</td>\n",
              "      <td>85</td>\n",
              "      <td>95</td>\n",
              "      <td>41.176471</td>\n",
              "      <td>51.578947</td>\n",
              "    </tr>\n",
              "    <tr>\n",
              "      <th>7</th>\n",
              "      <td>Kolkata Knight Riders</td>\n",
              "      <td>34</td>\n",
              "      <td>58</td>\n",
              "      <td>83</td>\n",
              "      <td>95</td>\n",
              "      <td>40.963855</td>\n",
              "      <td>61.052632</td>\n",
              "    </tr>\n",
              "    <tr>\n",
              "      <th>11</th>\n",
              "      <td>Rising Pune Supergiant</td>\n",
              "      <td>11</td>\n",
              "      <td>11</td>\n",
              "      <td>28</td>\n",
              "      <td>34</td>\n",
              "      <td>39.285714</td>\n",
              "      <td>32.352941</td>\n",
              "    </tr>\n",
              "    <tr>\n",
              "      <th>10</th>\n",
              "      <td>Delhi Capitals</td>\n",
              "      <td>28</td>\n",
              "      <td>49</td>\n",
              "      <td>78</td>\n",
              "      <td>99</td>\n",
              "      <td>35.897436</td>\n",
              "      <td>49.494949</td>\n",
              "    </tr>\n",
              "    <tr>\n",
              "      <th>8</th>\n",
              "      <td>Kochi Tuskers Kerala</td>\n",
              "      <td>2</td>\n",
              "      <td>4</td>\n",
              "      <td>7</td>\n",
              "      <td>7</td>\n",
              "      <td>28.571429</td>\n",
              "      <td>57.142857</td>\n",
              "    </tr>\n",
              "    <tr>\n",
              "      <th>9</th>\n",
              "      <td>Gujarat Lions</td>\n",
              "      <td>1</td>\n",
              "      <td>12</td>\n",
              "      <td>14</td>\n",
              "      <td>16</td>\n",
              "      <td>7.142857</td>\n",
              "      <td>75.000000</td>\n",
              "    </tr>\n",
              "  </tbody>\n",
              "</table>\n",
              "</div>"
            ],
            "text/plain": [
              "                           team  ...  away_win_percentage\n",
              "0                Mumbai Indians  ...            59.302326\n",
              "1           Chennai Super Kings  ...            65.333333\n",
              "2           Sunrisers Hyderabad  ...            62.222222\n",
              "3              Rajasthan Royals  ...            57.500000\n",
              "4               Deccan Chargers  ...            34.375000\n",
              "5               Kings XI Punjab  ...            51.764706\n",
              "6   Royal Challengers Bangalore  ...            51.578947\n",
              "7         Kolkata Knight Riders  ...            61.052632\n",
              "11       Rising Pune Supergiant  ...            32.352941\n",
              "10               Delhi Capitals  ...            49.494949\n",
              "8          Kochi Tuskers Kerala  ...            57.142857\n",
              "9                 Gujarat Lions  ...            75.000000\n",
              "\n",
              "[12 rows x 7 columns]"
            ]
          },
          "metadata": {
            "tags": []
          },
          "execution_count": 29
        }
      ]
    },
    {
      "cell_type": "code",
      "metadata": {
        "id": "BMOcI7Y2nW7T"
      },
      "source": [
        "# Let's plot the graph to get better idea\n",
        "home_wins = go.Bar(x = team_df['team'], y = team_df['home_win_percentage'], name = 'Home Wins Percentage', marker = dict(color = '#00D9C0'))\n",
        "away_wins = go.Bar(x = team_df['team'], y = team_df['away_win_percentage'], name = 'Away Wins Percentage', marker = dict(color = '#FFC43D'))\n",
        "\n",
        "data = [home_wins, away_wins]"
      ],
      "execution_count": 30,
      "outputs": []
    },
    {
      "cell_type": "code",
      "metadata": {
        "colab": {
          "base_uri": "https://localhost:8080/",
          "height": 542
        },
        "id": "5i3QRZ7HnYMZ",
        "outputId": "3c22f451-58db-4476-e87c-87183580d0c4"
      },
      "source": [
        "layout = go.Layout(title = 'Team Home Wins and Away Wins Percentage', xaxis = dict(title = 'team'), yaxis = dict(title = 'Total'), bargap = 0.2, bargroupgap = 0.1)\n",
        "\n",
        "figure = go.Figure(data = data, layout = layout)\n",
        "iplot(figure)"
      ],
      "execution_count": 31,
      "outputs": [
        {
          "output_type": "display_data",
          "data": {
            "text/html": [
              "<html>\n",
              "<head><meta charset=\"utf-8\" /></head>\n",
              "<body>\n",
              "    <div>\n",
              "            <script src=\"https://cdnjs.cloudflare.com/ajax/libs/mathjax/2.7.5/MathJax.js?config=TeX-AMS-MML_SVG\"></script><script type=\"text/javascript\">if (window.MathJax) {MathJax.Hub.Config({SVG: {font: \"STIX-Web\"}});}</script>\n",
              "                <script type=\"text/javascript\">window.PlotlyConfig = {MathJaxConfig: 'local'};</script>\n",
              "        <script src=\"https://cdn.plot.ly/plotly-latest.min.js\"></script>    \n",
              "            <div id=\"a4555919-0db9-4c8b-96ad-71602bb39c91\" class=\"plotly-graph-div\" style=\"height:525px; width:100%;\"></div>\n",
              "            <script type=\"text/javascript\">\n",
              "                \n",
              "                    window.PLOTLYENV=window.PLOTLYENV || {};\n",
              "                    \n",
              "                if (document.getElementById(\"a4555919-0db9-4c8b-96ad-71602bb39c91\")) {\n",
              "                    Plotly.newPlot(\n",
              "                        'a4555919-0db9-4c8b-96ad-71602bb39c91',\n",
              "                        [{\"marker\": {\"color\": \"#00D9C0\"}, \"name\": \"Home Wins Percentage\", \"type\": \"bar\", \"x\": [\"Mumbai Indians\", \"Chennai Super Kings\", \"Sunrisers Hyderabad\", \"Rajasthan Royals\", \"Deccan Chargers\", \"Kings XI Punjab\", \"Royal Challengers Bangalore\", \"Kolkata Knight Riders\", \"Rising Pune Supergiant\", \"Delhi Capitals\", \"Kochi Tuskers Kerala\", \"Gujarat Lions\"], \"y\": [57.42574257425742, 57.30337078651685, 47.61904761904761, 43.28358208955223, 41.860465116279066, 41.75824175824176, 41.17647058823529, 40.96385542168674, 39.285714285714285, 35.8974358974359, 28.57142857142857, 7.142857142857142]}, {\"marker\": {\"color\": \"#FFC43D\"}, \"name\": \"Away Wins Percentage\", \"type\": \"bar\", \"x\": [\"Mumbai Indians\", \"Chennai Super Kings\", \"Sunrisers Hyderabad\", \"Rajasthan Royals\", \"Deccan Chargers\", \"Kings XI Punjab\", \"Royal Challengers Bangalore\", \"Kolkata Knight Riders\", \"Rising Pune Supergiant\", \"Delhi Capitals\", \"Kochi Tuskers Kerala\", \"Gujarat Lions\"], \"y\": [59.30232558139535, 65.33333333333333, 62.22222222222222, 57.49999999999999, 34.375, 51.764705882352956, 51.57894736842106, 61.05263157894736, 32.35294117647059, 49.494949494949495, 57.14285714285714, 75.0]}],\n",
              "                        {\"bargap\": 0.2, \"bargroupgap\": 0.1, \"template\": {\"data\": {\"bar\": [{\"error_x\": {\"color\": \"#2a3f5f\"}, \"error_y\": {\"color\": \"#2a3f5f\"}, \"marker\": {\"line\": {\"color\": \"#E5ECF6\", \"width\": 0.5}}, \"type\": \"bar\"}], \"barpolar\": [{\"marker\": {\"line\": {\"color\": \"#E5ECF6\", \"width\": 0.5}}, \"type\": \"barpolar\"}], \"carpet\": [{\"aaxis\": {\"endlinecolor\": \"#2a3f5f\", \"gridcolor\": \"white\", \"linecolor\": \"white\", \"minorgridcolor\": \"white\", \"startlinecolor\": \"#2a3f5f\"}, \"baxis\": {\"endlinecolor\": \"#2a3f5f\", \"gridcolor\": \"white\", \"linecolor\": \"white\", \"minorgridcolor\": \"white\", \"startlinecolor\": \"#2a3f5f\"}, \"type\": \"carpet\"}], \"choropleth\": [{\"colorbar\": {\"outlinewidth\": 0, \"ticks\": \"\"}, \"type\": \"choropleth\"}], \"contour\": [{\"colorbar\": {\"outlinewidth\": 0, \"ticks\": \"\"}, \"colorscale\": [[0.0, \"#0d0887\"], [0.1111111111111111, \"#46039f\"], [0.2222222222222222, \"#7201a8\"], [0.3333333333333333, \"#9c179e\"], [0.4444444444444444, \"#bd3786\"], [0.5555555555555556, \"#d8576b\"], [0.6666666666666666, \"#ed7953\"], [0.7777777777777778, \"#fb9f3a\"], [0.8888888888888888, \"#fdca26\"], [1.0, \"#f0f921\"]], \"type\": \"contour\"}], \"contourcarpet\": [{\"colorbar\": {\"outlinewidth\": 0, \"ticks\": \"\"}, \"type\": \"contourcarpet\"}], \"heatmap\": [{\"colorbar\": {\"outlinewidth\": 0, \"ticks\": \"\"}, \"colorscale\": [[0.0, \"#0d0887\"], [0.1111111111111111, \"#46039f\"], [0.2222222222222222, \"#7201a8\"], [0.3333333333333333, \"#9c179e\"], [0.4444444444444444, \"#bd3786\"], [0.5555555555555556, \"#d8576b\"], [0.6666666666666666, \"#ed7953\"], [0.7777777777777778, \"#fb9f3a\"], [0.8888888888888888, \"#fdca26\"], [1.0, \"#f0f921\"]], \"type\": \"heatmap\"}], \"heatmapgl\": [{\"colorbar\": {\"outlinewidth\": 0, \"ticks\": \"\"}, \"colorscale\": [[0.0, \"#0d0887\"], [0.1111111111111111, \"#46039f\"], [0.2222222222222222, \"#7201a8\"], [0.3333333333333333, \"#9c179e\"], [0.4444444444444444, \"#bd3786\"], [0.5555555555555556, \"#d8576b\"], [0.6666666666666666, \"#ed7953\"], [0.7777777777777778, \"#fb9f3a\"], [0.8888888888888888, \"#fdca26\"], [1.0, \"#f0f921\"]], \"type\": \"heatmapgl\"}], \"histogram\": [{\"marker\": {\"colorbar\": {\"outlinewidth\": 0, \"ticks\": \"\"}}, \"type\": \"histogram\"}], \"histogram2d\": [{\"colorbar\": {\"outlinewidth\": 0, \"ticks\": \"\"}, \"colorscale\": [[0.0, \"#0d0887\"], [0.1111111111111111, \"#46039f\"], [0.2222222222222222, \"#7201a8\"], [0.3333333333333333, \"#9c179e\"], [0.4444444444444444, \"#bd3786\"], [0.5555555555555556, \"#d8576b\"], [0.6666666666666666, \"#ed7953\"], [0.7777777777777778, \"#fb9f3a\"], [0.8888888888888888, \"#fdca26\"], [1.0, \"#f0f921\"]], \"type\": \"histogram2d\"}], \"histogram2dcontour\": [{\"colorbar\": {\"outlinewidth\": 0, \"ticks\": \"\"}, \"colorscale\": [[0.0, \"#0d0887\"], [0.1111111111111111, \"#46039f\"], [0.2222222222222222, \"#7201a8\"], [0.3333333333333333, \"#9c179e\"], [0.4444444444444444, \"#bd3786\"], [0.5555555555555556, \"#d8576b\"], [0.6666666666666666, \"#ed7953\"], [0.7777777777777778, \"#fb9f3a\"], [0.8888888888888888, \"#fdca26\"], [1.0, \"#f0f921\"]], \"type\": \"histogram2dcontour\"}], \"mesh3d\": [{\"colorbar\": {\"outlinewidth\": 0, \"ticks\": \"\"}, \"type\": \"mesh3d\"}], \"parcoords\": [{\"line\": {\"colorbar\": {\"outlinewidth\": 0, \"ticks\": \"\"}}, \"type\": \"parcoords\"}], \"pie\": [{\"automargin\": true, \"type\": \"pie\"}], \"scatter\": [{\"marker\": {\"colorbar\": {\"outlinewidth\": 0, \"ticks\": \"\"}}, \"type\": \"scatter\"}], \"scatter3d\": [{\"line\": {\"colorbar\": {\"outlinewidth\": 0, \"ticks\": \"\"}}, \"marker\": {\"colorbar\": {\"outlinewidth\": 0, \"ticks\": \"\"}}, \"type\": \"scatter3d\"}], \"scattercarpet\": [{\"marker\": {\"colorbar\": {\"outlinewidth\": 0, \"ticks\": \"\"}}, \"type\": \"scattercarpet\"}], \"scattergeo\": [{\"marker\": {\"colorbar\": {\"outlinewidth\": 0, \"ticks\": \"\"}}, \"type\": \"scattergeo\"}], \"scattergl\": [{\"marker\": {\"colorbar\": {\"outlinewidth\": 0, \"ticks\": \"\"}}, \"type\": \"scattergl\"}], \"scattermapbox\": [{\"marker\": {\"colorbar\": {\"outlinewidth\": 0, \"ticks\": \"\"}}, \"type\": \"scattermapbox\"}], \"scatterpolar\": [{\"marker\": {\"colorbar\": {\"outlinewidth\": 0, \"ticks\": \"\"}}, \"type\": \"scatterpolar\"}], \"scatterpolargl\": [{\"marker\": {\"colorbar\": {\"outlinewidth\": 0, \"ticks\": \"\"}}, \"type\": \"scatterpolargl\"}], \"scatterternary\": [{\"marker\": {\"colorbar\": {\"outlinewidth\": 0, \"ticks\": \"\"}}, \"type\": \"scatterternary\"}], \"surface\": [{\"colorbar\": {\"outlinewidth\": 0, \"ticks\": \"\"}, \"colorscale\": [[0.0, \"#0d0887\"], [0.1111111111111111, \"#46039f\"], [0.2222222222222222, \"#7201a8\"], [0.3333333333333333, \"#9c179e\"], [0.4444444444444444, \"#bd3786\"], [0.5555555555555556, \"#d8576b\"], [0.6666666666666666, \"#ed7953\"], [0.7777777777777778, \"#fb9f3a\"], [0.8888888888888888, \"#fdca26\"], [1.0, \"#f0f921\"]], \"type\": \"surface\"}], \"table\": [{\"cells\": {\"fill\": {\"color\": \"#EBF0F8\"}, \"line\": {\"color\": \"white\"}}, \"header\": {\"fill\": {\"color\": \"#C8D4E3\"}, \"line\": {\"color\": \"white\"}}, \"type\": \"table\"}]}, \"layout\": {\"annotationdefaults\": {\"arrowcolor\": \"#2a3f5f\", \"arrowhead\": 0, \"arrowwidth\": 1}, \"coloraxis\": {\"colorbar\": {\"outlinewidth\": 0, \"ticks\": \"\"}}, \"colorscale\": {\"diverging\": [[0, \"#8e0152\"], [0.1, \"#c51b7d\"], [0.2, \"#de77ae\"], [0.3, \"#f1b6da\"], [0.4, \"#fde0ef\"], [0.5, \"#f7f7f7\"], [0.6, \"#e6f5d0\"], [0.7, \"#b8e186\"], [0.8, \"#7fbc41\"], [0.9, \"#4d9221\"], [1, \"#276419\"]], \"sequential\": [[0.0, \"#0d0887\"], [0.1111111111111111, \"#46039f\"], [0.2222222222222222, \"#7201a8\"], [0.3333333333333333, \"#9c179e\"], [0.4444444444444444, \"#bd3786\"], [0.5555555555555556, \"#d8576b\"], [0.6666666666666666, \"#ed7953\"], [0.7777777777777778, \"#fb9f3a\"], [0.8888888888888888, \"#fdca26\"], [1.0, \"#f0f921\"]], \"sequentialminus\": [[0.0, \"#0d0887\"], [0.1111111111111111, \"#46039f\"], [0.2222222222222222, \"#7201a8\"], [0.3333333333333333, \"#9c179e\"], [0.4444444444444444, \"#bd3786\"], [0.5555555555555556, \"#d8576b\"], [0.6666666666666666, \"#ed7953\"], [0.7777777777777778, \"#fb9f3a\"], [0.8888888888888888, \"#fdca26\"], [1.0, \"#f0f921\"]]}, \"colorway\": [\"#636efa\", \"#EF553B\", \"#00cc96\", \"#ab63fa\", \"#FFA15A\", \"#19d3f3\", \"#FF6692\", \"#B6E880\", \"#FF97FF\", \"#FECB52\"], \"font\": {\"color\": \"#2a3f5f\"}, \"geo\": {\"bgcolor\": \"white\", \"lakecolor\": \"white\", \"landcolor\": \"#E5ECF6\", \"showlakes\": true, \"showland\": true, \"subunitcolor\": \"white\"}, \"hoverlabel\": {\"align\": \"left\"}, \"hovermode\": \"closest\", \"mapbox\": {\"style\": \"light\"}, \"paper_bgcolor\": \"white\", \"plot_bgcolor\": \"#E5ECF6\", \"polar\": {\"angularaxis\": {\"gridcolor\": \"white\", \"linecolor\": \"white\", \"ticks\": \"\"}, \"bgcolor\": \"#E5ECF6\", \"radialaxis\": {\"gridcolor\": \"white\", \"linecolor\": \"white\", \"ticks\": \"\"}}, \"scene\": {\"xaxis\": {\"backgroundcolor\": \"#E5ECF6\", \"gridcolor\": \"white\", \"gridwidth\": 2, \"linecolor\": \"white\", \"showbackground\": true, \"ticks\": \"\", \"zerolinecolor\": \"white\"}, \"yaxis\": {\"backgroundcolor\": \"#E5ECF6\", \"gridcolor\": \"white\", \"gridwidth\": 2, \"linecolor\": \"white\", \"showbackground\": true, \"ticks\": \"\", \"zerolinecolor\": \"white\"}, \"zaxis\": {\"backgroundcolor\": \"#E5ECF6\", \"gridcolor\": \"white\", \"gridwidth\": 2, \"linecolor\": \"white\", \"showbackground\": true, \"ticks\": \"\", \"zerolinecolor\": \"white\"}}, \"shapedefaults\": {\"line\": {\"color\": \"#2a3f5f\"}}, \"ternary\": {\"aaxis\": {\"gridcolor\": \"white\", \"linecolor\": \"white\", \"ticks\": \"\"}, \"baxis\": {\"gridcolor\": \"white\", \"linecolor\": \"white\", \"ticks\": \"\"}, \"bgcolor\": \"#E5ECF6\", \"caxis\": {\"gridcolor\": \"white\", \"linecolor\": \"white\", \"ticks\": \"\"}}, \"title\": {\"x\": 0.05}, \"xaxis\": {\"automargin\": true, \"gridcolor\": \"white\", \"linecolor\": \"white\", \"ticks\": \"\", \"title\": {\"standoff\": 15}, \"zerolinecolor\": \"white\", \"zerolinewidth\": 2}, \"yaxis\": {\"automargin\": true, \"gridcolor\": \"white\", \"linecolor\": \"white\", \"ticks\": \"\", \"title\": {\"standoff\": 15}, \"zerolinecolor\": \"white\", \"zerolinewidth\": 2}}}, \"title\": {\"text\": \"Team Home Wins and Away Wins Percentage\"}, \"xaxis\": {\"title\": {\"text\": \"team\"}}, \"yaxis\": {\"title\": {\"text\": \"Total\"}}},\n",
              "                        {\"responsive\": true}\n",
              "                    ).then(function(){\n",
              "                            \n",
              "var gd = document.getElementById('a4555919-0db9-4c8b-96ad-71602bb39c91');\n",
              "var x = new MutationObserver(function (mutations, observer) {{\n",
              "        var display = window.getComputedStyle(gd).display;\n",
              "        if (!display || display === 'none') {{\n",
              "            console.log([gd, 'removed!']);\n",
              "            Plotly.purge(gd);\n",
              "            observer.disconnect();\n",
              "        }}\n",
              "}});\n",
              "\n",
              "// Listen for the removal of the full notebook cells\n",
              "var notebookContainer = gd.closest('#notebook-container');\n",
              "if (notebookContainer) {{\n",
              "    x.observe(notebookContainer, {childList: true});\n",
              "}}\n",
              "\n",
              "// Listen for the clearing of the current output cell\n",
              "var outputEl = gd.closest('.output');\n",
              "if (outputEl) {{\n",
              "    x.observe(outputEl, {childList: true});\n",
              "}}\n",
              "\n",
              "                        })\n",
              "                };\n",
              "                \n",
              "            </script>\n",
              "        </div>\n",
              "</body>\n",
              "</html>"
            ]
          },
          "metadata": {
            "tags": []
          }
        }
      ]
    },
    {
      "cell_type": "code",
      "metadata": {
        "id": "8SemnFkhnZRN"
      },
      "source": [
        ""
      ],
      "execution_count": null,
      "outputs": []
    },
    {
      "cell_type": "markdown",
      "metadata": {
        "id": "KXOAAy97_pri"
      },
      "source": [
        "## **Conclusion**\n",
        "\n",
        "**Mumbai Indians and Chennai Super Kings are the top 2 teams that have won 57% of the matches at their homes ground, followed by the Sunrisers Hyderabad - 47%**\n",
        "\n",
        "**Gujarat Lions have won 75% of their matches away from home ground, followed by the Chennai Super Kings - 65%**"
      ]
    },
    {
      "cell_type": "code",
      "metadata": {
        "id": "Vk2v7fbmna7B"
      },
      "source": [
        ""
      ],
      "execution_count": null,
      "outputs": []
    },
    {
      "cell_type": "markdown",
      "metadata": {
        "id": "3wPFRH0EbaAH"
      },
      "source": [
        "# **Conclusion of Home and Away wins DataFrame**\n",
        "\n",
        "**Data Cleaning**\n",
        "1. There are No Null values in this dataset\n",
        "2. We updated some of the teams home_wins and away_wins data - especially of \"Delhi Capitals\" and \"Rising Pune Supergiant\"\n",
        "\n",
        "## **Exploratory Data Analysis of Teamwise Home and Away wins DataFrame**\n",
        "\n",
        "**Home wins and Away wins Analysis**\n",
        "1. Teams that won most number of home matches - Mumbai Indians 58 home matches, Chennai Super Kings 51 home matches, and Kings 11 Punjab 38 home matches\n",
        "2. Teams that won most number of away matches - Kolkata Knight Riders 58 away matches, Mumbai Indians 51 away matches, followed by the Delhi Cpitals & Chennai Super Kings with 49 away matches\n",
        "3. Teams that won most number home matches percentage wise - Mumbai Indians 57%, Chennai Super Kings 57%, Sunrisers Hyderabad 47%\n",
        "4. Teams that won mmost number of away matches percentage wise - Gujarat Lions 75%, Chennai Super Kings 65%, and Sunrisers Hyderabad 62%\n",
        "***Above data shows that Chennai Super kings and Mumbai Indians are top 2 teams who won majourity of matches at home as well as away from home ground**"
      ]
    }
  ]
}